{
 "cells": [
  {
   "cell_type": "markdown",
   "id": "d6600b5b",
   "metadata": {},
   "source": [
    "# Svensson (1994)"
   ]
  },
  {
   "cell_type": "markdown",
   "id": "2ea11aa8",
   "metadata": {},
   "source": [
    "\n",
    "\n",
    "$$ r(t) = \\beta_1 + \\beta_2\\frac{1-e^{-\\lambda_1 t}}{\\lambda_1 t} \n",
    "        + \\beta_3 \\left(\\frac{1-e^{-\\lambda_1 t}}{\\lambda_1 t}-e^{-\\lambda_1 t}\\right)\n",
    "        + \\beta_4 \\left(\\frac{1-e^{-\\lambda_2 t}}{\\lambda_2 t}-e^{-\\lambda_2 t}\\right)$$"
   ]
  },
  {
   "cell_type": "markdown",
   "id": "f931bc69",
   "metadata": {},
   "source": [
    "### Importing the data"
   ]
  },
  {
   "cell_type": "code",
   "execution_count": 300,
   "id": "2ed72081",
   "metadata": {},
   "outputs": [],
   "source": [
    "from scipy.optimize import fmin\n",
    "from datetime import datetime, timedelta\n",
    "import pandas as pd\n",
    "import numpy as np\n",
    "import datetime as dt\n",
    "from workadays import workdays as wd\n",
    "\n",
    "path = r\"C:\\Users\\Alysson\\Documents\\GitHub\\Monetary-Shocks\\Brasil\\ETTJ\\Base_LTN.xlsx\"\n",
    "path2 = r\"C:\\Users\\Alysson\\Documents\\GitHub\\Monetary-Shocks\\Brasil\\ETTJ\\Parametros.xlsx\"\n",
    "df = pd.read_excel(path)\n",
    "parameters = pd.read_excel(path2)"
   ]
  },
  {
   "cell_type": "code",
   "execution_count": 301,
   "id": "d024534e",
   "metadata": {},
   "outputs": [],
   "source": [
    "parameters.set_index(\"Data referência\", inplace=True)\n",
    "\n",
    "### Maturity Calculation\n",
    "\n",
    "df[\"Maturity\"] = df.apply(lambda row: wd.networkdays(row[\"DATA_REFERENCIA\"], row[\"DATA_VENCIMENTO\"]), axis=1)/252\n",
    "df.set_index(\"DATA_REFERENCIA\", inplace=True)\n",
    "\n",
    "### Duration Calculation\n",
    "\n",
    "cpn = 0\n",
    "yld = df[\"EXPECTATIVA\"]\n",
    "m = 1\n",
    "n = df[\"Maturity\"]\n",
    "\n",
    "df[\"Macaulay_duration\"] = ((1+yld) / (m*yld)) - ( (1 + yld + n*(cpn-yld)) / ((m*cpn* ((1+yld)**n - 1)) + m*yld) )"
   ]
  },
  {
   "cell_type": "code",
   "execution_count": 302,
   "id": "7cc69905",
   "metadata": {},
   "outputs": [
    {
     "data": {
      "text/html": [
       "<div>\n",
       "<style scoped>\n",
       "    .dataframe tbody tr th:only-of-type {\n",
       "        vertical-align: middle;\n",
       "    }\n",
       "\n",
       "    .dataframe tbody tr th {\n",
       "        vertical-align: top;\n",
       "    }\n",
       "\n",
       "    .dataframe thead th {\n",
       "        text-align: right;\n",
       "    }\n",
       "</style>\n",
       "<table border=\"1\" class=\"dataframe\">\n",
       "  <thead>\n",
       "    <tr style=\"text-align: right;\">\n",
       "      <th></th>\n",
       "      <th>CODIGO</th>\n",
       "      <th>DATA_VENCIMENTO</th>\n",
       "      <th>EXPECTATIVA</th>\n",
       "      <th>PU</th>\n",
       "      <th>Maturity</th>\n",
       "      <th>Macaulay_duration</th>\n",
       "    </tr>\n",
       "    <tr>\n",
       "      <th>DATA_REFERENCIA</th>\n",
       "      <th></th>\n",
       "      <th></th>\n",
       "      <th></th>\n",
       "      <th></th>\n",
       "      <th></th>\n",
       "      <th></th>\n",
       "    </tr>\n",
       "  </thead>\n",
       "  <tbody>\n",
       "    <tr>\n",
       "      <th>2023-07-03</th>\n",
       "      <td>LTN</td>\n",
       "      <td>2023-10-01</td>\n",
       "      <td>13.2025</td>\n",
       "      <td>968.996662</td>\n",
       "      <td>0.250000</td>\n",
       "      <td>0.250000</td>\n",
       "    </tr>\n",
       "    <tr>\n",
       "      <th>2023-07-03</th>\n",
       "      <td>LTN</td>\n",
       "      <td>2024-01-01</td>\n",
       "      <td>12.7468</td>\n",
       "      <td>942.225059</td>\n",
       "      <td>0.492063</td>\n",
       "      <td>0.492063</td>\n",
       "    </tr>\n",
       "    <tr>\n",
       "      <th>2023-07-03</th>\n",
       "      <td>LTN</td>\n",
       "      <td>2024-04-01</td>\n",
       "      <td>12.1642</td>\n",
       "      <td>918.761537</td>\n",
       "      <td>0.738095</td>\n",
       "      <td>0.738095</td>\n",
       "    </tr>\n",
       "    <tr>\n",
       "      <th>2023-07-03</th>\n",
       "      <td>LTN</td>\n",
       "      <td>2024-07-01</td>\n",
       "      <td>11.5298</td>\n",
       "      <td>897.786879</td>\n",
       "      <td>0.988095</td>\n",
       "      <td>0.988095</td>\n",
       "    </tr>\n",
       "    <tr>\n",
       "      <th>2023-07-03</th>\n",
       "      <td>LTN</td>\n",
       "      <td>2024-10-01</td>\n",
       "      <td>11.0232</td>\n",
       "      <td>877.471104</td>\n",
       "      <td>1.250000</td>\n",
       "      <td>1.250000</td>\n",
       "    </tr>\n",
       "  </tbody>\n",
       "</table>\n",
       "</div>"
      ],
      "text/plain": [
       "                CODIGO DATA_VENCIMENTO  EXPECTATIVA          PU  Maturity  \\\n",
       "DATA_REFERENCIA                                                             \n",
       "2023-07-03         LTN      2023-10-01      13.2025  968.996662  0.250000   \n",
       "2023-07-03         LTN      2024-01-01      12.7468  942.225059  0.492063   \n",
       "2023-07-03         LTN      2024-04-01      12.1642  918.761537  0.738095   \n",
       "2023-07-03         LTN      2024-07-01      11.5298  897.786879  0.988095   \n",
       "2023-07-03         LTN      2024-10-01      11.0232  877.471104  1.250000   \n",
       "\n",
       "                 Macaulay_duration  \n",
       "DATA_REFERENCIA                     \n",
       "2023-07-03                0.250000  \n",
       "2023-07-03                0.492063  \n",
       "2023-07-03                0.738095  \n",
       "2023-07-03                0.988095  \n",
       "2023-07-03                1.250000  "
      ]
     },
     "execution_count": 302,
     "metadata": {},
     "output_type": "execute_result"
    }
   ],
   "source": [
    "df.head()"
   ]
  },
  {
   "cell_type": "markdown",
   "id": "b01e4b95",
   "metadata": {},
   "source": [
    "### Generating individuals"
   ]
  },
  {
   "cell_type": "code",
   "execution_count": 303,
   "id": "15c92863",
   "metadata": {},
   "outputs": [],
   "source": [
    "N =1200             ### Number of individuals \n",
    "p = int(2/3*N)      ### Proportion of individuals generated by method 1\n",
    "var = 0.5           ### variance normal distribution\n",
    "\n",
    "### 1 - Initial Values of the results of the estimation of the previous day\n",
    "\n",
    "ref_date_str = \"2023-07-11\"\n",
    "ref_date = datetime.strptime(ref_date_str, \"%Y-%m-%d\")\n",
    "previous_date = ref_date - timedelta(days=1)\n",
    "previous_parameters = parameters.loc[previous_date][1:]\n",
    "beta_star_1 = np.array([previous_parameters.replace(previous_parameters[1],previous_parameters[0])])\n",
    "e_previous = beta_star_1.T*np.random.normal(0, var, size=(6, p))\n",
    "beta_previous = beta_star_1.T + e_previous\n",
    "\n",
    "### 2 - Approximation that takes into account the observed yield to maturity (ytm)\n",
    "\n",
    "data_estimada = df.loc[ref_date_str]\n",
    "data_estimada.sort_values(\"Maturity\")\n",
    "b1 = data_estimada[\"EXPECTATIVA\"][0]/100\n",
    "b2 = data_estimada[\"EXPECTATIVA\"][-1]/100 - data_estimada[\"EXPECTATIVA\"][0]/100\n",
    "b3 = 0\n",
    "b4 = 0\n",
    "lbda1 = (data_estimada[\"Maturity\"][-1]-data_estimada[\"Maturity\"][0])/2\n",
    "lbda2 = lbda1\n",
    "beta_star_2 = np.array([b1, b2, b3 , b4, lbda1, lbda2])[:, np.newaxis]\n",
    "e_approx = beta_star_2*np.random.normal(0, var, size=(6, N-p))\n",
    "beta_approx = beta_star_2 + e_approx ## ajustar colunas\n",
    "\n",
    "### Adding constraints to the parameters\n",
    "\n",
    "def update (betas,beta_star):\n",
    "    updated_value = []\n",
    "    for index, parameter in enumerate(betas):\n",
    "        if parameter[0]<0:\n",
    "            betas[index][0] = beta_star[0]+ beta_star[0]*np.random.normal(0, var)\n",
    "            updated_value.append(betas[index][0]<0)\n",
    "        if (parameter[0]+parameter[1])<0:\n",
    "            betas[index][1] = beta_star[1]+ beta_star[1]*np.random.normal(0, var)\n",
    "            updated_value.append((betas[index][0]+betas[index][1])<0)\n",
    "        if parameter[4]<0:\n",
    "            betas[index][4] = beta_star[4]+ beta_star[4]*np.random.normal(0, var)\n",
    "            updated_value.append(betas[index][4]<0)\n",
    "        if parameter[5]<0:\n",
    "            betas[index][5] = beta_star[5]+ beta_star[5]*np.random.normal(0, var)\n",
    "            updated_value.append(betas[index][5]<0)\n",
    "    if sum(updated_value) != 0:\n",
    "        update(betas,beta_star)\n",
    "    return(beta_previous.T)\n",
    "\n",
    "update(beta_previous.T,beta_star_1.T)\n",
    "update(beta_approx,beta_star_2)\n",
    "\n",
    "individuals = np.concatenate((beta_previous.T, beta_approx.T), axis=0)"
   ]
  },
  {
   "cell_type": "markdown",
   "id": "f0f27240",
   "metadata": {},
   "source": [
    "### Selection"
   ]
  },
  {
   "cell_type": "code",
   "execution_count": 307,
   "id": "1913f806",
   "metadata": {},
   "outputs": [
    {
     "data": {
      "text/html": [
       "<div>\n",
       "<style scoped>\n",
       "    .dataframe tbody tr th:only-of-type {\n",
       "        vertical-align: middle;\n",
       "    }\n",
       "\n",
       "    .dataframe tbody tr th {\n",
       "        vertical-align: top;\n",
       "    }\n",
       "\n",
       "    .dataframe thead th {\n",
       "        text-align: right;\n",
       "    }\n",
       "</style>\n",
       "<table border=\"1\" class=\"dataframe\">\n",
       "  <thead>\n",
       "    <tr style=\"text-align: right;\">\n",
       "      <th></th>\n",
       "      <th>SC</th>\n",
       "      <th>Parameters</th>\n",
       "    </tr>\n",
       "  </thead>\n",
       "  <tbody>\n",
       "    <tr>\n",
       "      <th>126</th>\n",
       "      <td>441.683129</td>\n",
       "      <td>[0.11882069566100371, 0.029162950216071057, 0....</td>\n",
       "    </tr>\n",
       "    <tr>\n",
       "      <th>944</th>\n",
       "      <td>500.315543</td>\n",
       "      <td>[0.10830782806501695, 0.042711396687265146, 0....</td>\n",
       "    </tr>\n",
       "    <tr>\n",
       "      <th>521</th>\n",
       "      <td>584.878660</td>\n",
       "      <td>[0.11664102260477995, 0.027735705650727964, 0....</td>\n",
       "    </tr>\n",
       "    <tr>\n",
       "      <th>19</th>\n",
       "      <td>611.711106</td>\n",
       "      <td>[0.12136121266040864, 0.010670941224628945, 0....</td>\n",
       "    </tr>\n",
       "    <tr>\n",
       "      <th>72</th>\n",
       "      <td>648.537833</td>\n",
       "      <td>[0.10753818208335165, 0.03456568782391257, 0.0...</td>\n",
       "    </tr>\n",
       "  </tbody>\n",
       "</table>\n",
       "</div>"
      ],
      "text/plain": [
       "             SC                                         Parameters\n",
       "126  441.683129  [0.11882069566100371, 0.029162950216071057, 0....\n",
       "944  500.315543  [0.10830782806501695, 0.042711396687265146, 0....\n",
       "521  584.878660  [0.11664102260477995, 0.027735705650727964, 0....\n",
       "19   611.711106  [0.12136121266040864, 0.010670941224628945, 0....\n",
       "72   648.537833  [0.10753818208335165, 0.03456568782391257, 0.0..."
      ]
     },
     "execution_count": 307,
     "metadata": {},
     "output_type": "execute_result"
    }
   ],
   "source": [
    "### add duration and coupons\n",
    "alpha = 6\n",
    "var = 0.5\n",
    "pi = 0.35\n",
    "### 40% of the individuals survive\n",
    "s = int(0.4 * N)\n",
    "\n",
    "for interation in range(1):\n",
    "\n",
    "    values = []\n",
    "    \n",
    "    for row in individuals:\n",
    "        def myval(c):\n",
    "            df['NSS'] =(c[0])+(c[1]*((1-np.exp(-df['Maturity']*c[4]))/(df['Maturity']*c[4])))+(c[2]*((((1-np.exp(-df['Maturity']*c[4]))/(df['Maturity']*c[4])))-(np.exp(-df['Maturity']*c[4]))))+(c[3]*((((1-np.exp(-df['Maturity']*c[5]))/(df['Maturity']*c[5])))-(np.exp(-df['Maturity']*c[5]))))\n",
    "            df['Calculated_price'] = 1000 / (1 + df['NSS']) ** df['Maturity'] \n",
    "            df['Residual'] =  (df['PU'] - df['Calculated_price'])**2*(1/df[\"Macaulay_duration\"]**0.5)\n",
    "            val = np.sum(df['Residual'])\n",
    "            return(val)\n",
    "    \n",
    "        val = myval(row)\n",
    "        values.append((val, row)) \n",
    "    sol = pd.DataFrame(values, columns=['SC', \"Parameters\"]).sort_values('SC')\n",
    "\n",
    "    selection = sol.sort_values('SC')[0:s]\n",
    "\n",
    "\n",
    "    next_gen = []\n",
    "    e_mutation = []\n",
    "\n",
    "    for num in range(N):\n",
    "        psi = np.random.uniform(0, 1)\n",
    "        theta_r = np.concatenate(selection.iloc[(np.random.beta(1,alpha, 1)*s),:][\"Parameters\"].values)\n",
    "        theta_s = np.concatenate(selection.iloc[(np.random.beta(1,alpha, 1)*s),:][\"Parameters\"].values)\n",
    "        next_gen.append(psi*theta_r+(1-psi)*theta_s)\n",
    "        e = np.random.normal(0, var, 6)*np.random.choice([0, 1], size=6, p=[1 - pi, pi])\n",
    "        e_mutation.append(e)\n",
    "\n",
    "    individuals = np.array(next_gen) + np.array(next_gen)*np.array(e_mutation)\n",
    "\n",
    "selection.head()"
   ]
  },
  {
   "cell_type": "code",
   "execution_count": 286,
   "id": "1d6f7b18",
   "metadata": {},
   "outputs": [],
   "source": [
    "\n",
    "dic[f\"{ref_date_str}\"]=selection.iloc[0]"
   ]
  },
  {
   "cell_type": "code",
   "execution_count": 287,
   "id": "c535b41d",
   "metadata": {},
   "outputs": [
    {
     "data": {
      "text/html": [
       "<div>\n",
       "<style scoped>\n",
       "    .dataframe tbody tr th:only-of-type {\n",
       "        vertical-align: middle;\n",
       "    }\n",
       "\n",
       "    .dataframe tbody tr th {\n",
       "        vertical-align: top;\n",
       "    }\n",
       "\n",
       "    .dataframe thead th {\n",
       "        text-align: right;\n",
       "    }\n",
       "</style>\n",
       "<table border=\"1\" class=\"dataframe\">\n",
       "  <thead>\n",
       "    <tr style=\"text-align: right;\">\n",
       "      <th></th>\n",
       "      <th>2023-07-04</th>\n",
       "      <th>2023-07-05</th>\n",
       "      <th>2023-07-06</th>\n",
       "      <th>2023-07-07</th>\n",
       "      <th>2023-07-11</th>\n",
       "    </tr>\n",
       "  </thead>\n",
       "  <tbody>\n",
       "    <tr>\n",
       "      <th>SC</th>\n",
       "      <td>393.65247</td>\n",
       "      <td>389.51223</td>\n",
       "      <td>364.003539</td>\n",
       "      <td>375.312602</td>\n",
       "      <td>338.801317</td>\n",
       "    </tr>\n",
       "    <tr>\n",
       "      <th>Parameters</th>\n",
       "      <td>[0.11124874896977963, 0.03260632779837819, 0.0...</td>\n",
       "      <td>[0.11297029616575885, 0.03271907967899865, 0.0...</td>\n",
       "      <td>[0.11461252921180823, 0.029120549396655992, 0....</td>\n",
       "      <td>[0.1131436990105141, 0.02634365940452725, 0.08...</td>\n",
       "      <td>[0.11433183587778599, 0.011508465453702686, 0....</td>\n",
       "    </tr>\n",
       "  </tbody>\n",
       "</table>\n",
       "</div>"
      ],
      "text/plain": [
       "                                                   2023-07-04  \\\n",
       "SC                                                  393.65247   \n",
       "Parameters  [0.11124874896977963, 0.03260632779837819, 0.0...   \n",
       "\n",
       "                                                   2023-07-05  \\\n",
       "SC                                                  389.51223   \n",
       "Parameters  [0.11297029616575885, 0.03271907967899865, 0.0...   \n",
       "\n",
       "                                                   2023-07-06  \\\n",
       "SC                                                 364.003539   \n",
       "Parameters  [0.11461252921180823, 0.029120549396655992, 0....   \n",
       "\n",
       "                                                   2023-07-07  \\\n",
       "SC                                                 375.312602   \n",
       "Parameters  [0.1131436990105141, 0.02634365940452725, 0.08...   \n",
       "\n",
       "                                                   2023-07-11  \n",
       "SC                                                 338.801317  \n",
       "Parameters  [0.11433183587778599, 0.011508465453702686, 0....  "
      ]
     },
     "execution_count": 287,
     "metadata": {},
     "output_type": "execute_result"
    }
   ],
   "source": [
    "curves = pd.DataFrame(dic)\n",
    "curves"
   ]
  },
  {
   "cell_type": "code",
   "execution_count": 297,
   "id": "1fdd0c2b",
   "metadata": {},
   "outputs": [
    {
     "data": {
      "text/plain": [
       "1096     [0.114, 0.012, 0.095, -0.099, 3.02, 1.274]\n",
       "143      [0.114, 0.014, 0.093, -0.098, 3.095, 1.28]\n",
       "724     [0.114, 0.011, 0.095, -0.096, 3.142, 1.273]\n",
       "403     [0.114, 0.011, 0.095, -0.096, 3.142, 1.275]\n",
       "63      [0.114, 0.012, 0.094, -0.096, 3.158, 1.275]\n",
       "                           ...                     \n",
       "1123    [0.114, 0.017, 0.094, -0.096, 3.365, 1.285]\n",
       "293     [0.114, 0.012, 0.097, -0.097, 3.259, 1.268]\n",
       "489     [0.114, 0.014, 0.095, -0.097, 3.143, 1.268]\n",
       "759     [0.114, 0.014, 0.095, -0.096, 3.155, 1.279]\n",
       "301     [0.115, 0.006, 0.097, -0.095, 3.139, 1.284]\n",
       "Name: Parameters, Length: 99, dtype: object"
      ]
     },
     "execution_count": 297,
     "metadata": {},
     "output_type": "execute_result"
    }
   ],
   "source": [
    "rounded_series = selection[\"Parameters\"].apply(lambda lst: [round(x, 3) for x in lst])\n",
    "rounded_series[0:99]"
   ]
  },
  {
   "cell_type": "code",
   "execution_count": 298,
   "id": "612ef452",
   "metadata": {},
   "outputs": [
    {
     "data": {
      "text/plain": [
       "False"
      ]
     },
     "execution_count": 298,
     "metadata": {},
     "output_type": "execute_result"
    }
   ],
   "source": [
    "rounded_series[0:99].apply(lambda x: x == rounded_series.iloc[0]).all()"
   ]
  },
  {
   "cell_type": "code",
   "execution_count": 290,
   "id": "222720b6",
   "metadata": {},
   "outputs": [
    {
     "data": {
      "text/plain": [
       "1096    339.0\n",
       "143     340.0\n",
       "724     341.0\n",
       "403     341.0\n",
       "63      341.0\n",
       "        ...  \n",
       "1123    400.0\n",
       "293     402.0\n",
       "489     404.0\n",
       "759     415.0\n",
       "301     422.0\n",
       "Name: SC, Length: 99, dtype: float64"
      ]
     },
     "execution_count": 290,
     "metadata": {},
     "output_type": "execute_result"
    }
   ],
   "source": [
    "np.round(selection[\"SC\"][0:99], decimals = 0)"
   ]
  },
  {
   "cell_type": "code",
   "execution_count": null,
   "id": "1ec303d1",
   "metadata": {},
   "outputs": [],
   "source": []
  }
 ],
 "metadata": {
  "kernelspec": {
   "display_name": "Python 3 (ipykernel)",
   "language": "python",
   "name": "python3"
  },
  "language_info": {
   "codemirror_mode": {
    "name": "ipython",
    "version": 3
   },
   "file_extension": ".py",
   "mimetype": "text/x-python",
   "name": "python",
   "nbconvert_exporter": "python",
   "pygments_lexer": "ipython3",
   "version": "3.11.3"
  }
 },
 "nbformat": 4,
 "nbformat_minor": 5
}
