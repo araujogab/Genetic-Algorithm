{
 "cells": [
  {
   "cell_type": "markdown",
   "id": "d6600b5b",
   "metadata": {},
   "source": [
    "# Svensson (1994)"
   ]
  },
  {
   "cell_type": "markdown",
   "id": "2ea11aa8",
   "metadata": {},
   "source": [
    "\n",
    "\n",
    "$$ r(t) = \\beta_1 + \\beta_2\\frac{1-e^{-\\lambda_1 t}}{\\lambda_1 t} \n",
    "        + \\beta_3 \\left(\\frac{1-e^{-\\lambda_1 t}}{\\lambda_1 t}-e^{-\\lambda_1 t}\\right)\n",
    "        + \\beta_4 \\left(\\frac{1-e^{-\\lambda_2 t}}{\\lambda_2 t}-e^{-\\lambda_2 t}\\right)$$"
   ]
  },
  {
   "cell_type": "markdown",
   "id": "f931bc69",
   "metadata": {},
   "source": [
    "### Importing the data"
   ]
  },
  {
   "cell_type": "code",
   "execution_count": 510,
   "id": "2ed72081",
   "metadata": {},
   "outputs": [],
   "source": [
    "from scipy.optimize import fmin\n",
    "from datetime import datetime, timedelta\n",
    "import pandas as pd\n",
    "import numpy as np\n",
    "import math\n",
    "import datetime as dt\n",
    "import matplotlib.pyplot as plt\n",
    "from bizdays import Calendar\n",
    "\n",
    "path = r\"C:\\Users\\Alysson\\Documents\\GitHub\\Monetary-Shocks\\Brasil\\ETTJ\\Titulos.xlsx\"\n",
    "path2 = r\"C:\\Users\\Alysson\\Documents\\GitHub\\Monetary-Shocks\\Brasil\\ETTJ\\Parametros.xlsx\"\n",
    "df = pd.read_excel(path)\n",
    "parameters = pd.read_excel(path2)"
   ]
  },
  {
   "cell_type": "markdown",
   "id": "84971c35",
   "metadata": {},
   "source": [
    "### Coupon Calculation\n"
   ]
  },
  {
   "cell_type": "code",
   "execution_count": 511,
   "id": "36184022",
   "metadata": {},
   "outputs": [],
   "source": [
    "cal = Calendar.load(\"ANBIMA\")\n",
    "parameters.set_index(\"Data referência\", inplace=True)\n",
    "\n",
    "### Coupon Calculation\n",
    "\n",
    "df[\"Coupon\"] = df[\"CODIGO\"].apply(lambda x: 10 if x == \"NTN-F\" else 0)\n",
    "df['DATA_VENCIMENTO'] = pd.to_datetime(df['DATA_VENCIMENTO'])\n",
    "\n",
    "# Function to calculate the number of days between two dates\n",
    "def calculate_days_between_dates(reference_date, coupon_date):\n",
    "    return (coupon_date - reference_date).days\n",
    "\n",
    "# Function to generate the number of coupon days between two dates\n",
    "def calculate_coupon_days(reference_date, maturity_date):\n",
    "    first_january = pd.Timestamp(reference_date).replace(month=1, day=1)\n",
    "    first_july = pd.Timestamp(reference_date).replace(month=7, day=1)\n",
    "    \n",
    "    coupon_dates = [first_january, first_july]\n",
    "    \n",
    "    next_january = first_january + pd.DateOffset(years=1)\n",
    "    next_july = first_july + pd.DateOffset(years=1)\n",
    "    \n",
    "    while next_january <= maturity_date:\n",
    "        coupon_dates.append(next_january)\n",
    "        coupon_dates.append(next_july)\n",
    "        next_january = next_january + pd.DateOffset(years=1)\n",
    "        next_july = next_july + pd.DateOffset(years=1)\n",
    "    \n",
    "    coupon_days = [calculate_days_between_dates(reference_date, coupon_date) for coupon_date in coupon_dates if coupon_date >= reference_date and coupon_date <= maturity_date]\n",
    "    return coupon_days\n",
    "\n",
    "# Fill the 'Coupon_Days' column with 0 for all values in 'CODE' column that are not equal to \"NTN-F\"\n",
    "df.loc[df[\"CODIGO\"] != \"NTN-F\", \"Coupon_Days\"] = 0\n",
    "# Fill the column with the number of days using apply only for values in 'CODE' column that are equal to \"NTN-F\"\n",
    "df.loc[df[\"CODIGO\"] == \"NTN-F\", 'Coupon_Days'] = df[df[\"CODIGO\"] == \"NTN-F\"].apply(lambda row: calculate_coupon_days(row['DATA_REFERENCIA'], row['DATA_VENCIMENTO']), axis=1)\n"
   ]
  },
  {
   "cell_type": "code",
   "execution_count": 513,
   "id": "a149f9ef",
   "metadata": {},
   "outputs": [
    {
     "name": "stderr",
     "output_type": "stream",
     "text": [
      "C:\\Users\\Alysson\\AppData\\Local\\Temp\\ipykernel_11876\\1996319278.py:25: SettingWithCopyWarning: \n",
      "A value is trying to be set on a copy of a slice from a DataFrame.\n",
      "Try using .loc[row_indexer,col_indexer] = value instead\n",
      "\n",
      "See the caveats in the documentation: https://pandas.pydata.org/pandas-docs/stable/user_guide/indexing.html#returning-a-view-versus-a-copy\n",
      "  df[\"Macaulay_duration\"] = ((1+yld) / (m*yld)) - ( (1 + yld + n*(cpn-yld)) / ((m*cpn* ((1+yld)**n - 1)) + m*yld) )\n"
     ]
    }
   ],
   "source": [
    "### CDI treatments\n",
    "\n",
    "#CDI.rename(columns={'Data': 'DATA_REFERENCIA'}, inplace=True)\n",
    "#CDI.rename(columns={'CDI': 'EXPECTATIVA'}, inplace=True)\n",
    "#CDI[\"CODIGO\"]=\"CDI\"\n",
    "#CDI[\"DATA_VENCIMENTO\"]=cal.offset(CDI[\"DATA_REFERENCIA\"],1)\n",
    "#CDI[\"PU\"]=1000/((1+CDI['EXPECTATIVA'])**(1/252))\n",
    "#CDI = CDI[[\"CODIGO\",'DATA_REFERENCIA',\"DATA_VENCIMENTO\",'EXPECTATIVA',\"PU\"]]\n",
    "\n",
    "### Maturity Calculation\n",
    "\n",
    "#df = pd.concat([df, CDI], ignore_index=True)\n",
    "df[\"Maturity\"] = np.array(cal.bizdays(df[\"DATA_REFERENCIA\"], df[\"DATA_VENCIMENTO\"]))/252\n",
    "df.set_index(\"DATA_REFERENCIA\", inplace=True)\n",
    "df = df[df['Maturity'] >= 1]\n",
    "df.sort_index()\n",
    "\n",
    "### Duration Calculation\n",
    "\n"
   ]
  },
  {
   "cell_type": "code",
   "execution_count": 514,
   "id": "0b2fff1b",
   "metadata": {},
   "outputs": [
    {
     "data": {
      "text/html": [
       "<div>\n",
       "<style scoped>\n",
       "    .dataframe tbody tr th:only-of-type {\n",
       "        vertical-align: middle;\n",
       "    }\n",
       "\n",
       "    .dataframe tbody tr th {\n",
       "        vertical-align: top;\n",
       "    }\n",
       "\n",
       "    .dataframe thead th {\n",
       "        text-align: right;\n",
       "    }\n",
       "</style>\n",
       "<table border=\"1\" class=\"dataframe\">\n",
       "  <thead>\n",
       "    <tr style=\"text-align: right;\">\n",
       "      <th></th>\n",
       "      <th>CODIGO</th>\n",
       "      <th>DATA_VENCIMENTO</th>\n",
       "      <th>EXPECTATIVA</th>\n",
       "      <th>PU</th>\n",
       "      <th>Coupon</th>\n",
       "      <th>Coupon_Days</th>\n",
       "      <th>Maturity</th>\n",
       "      <th>Macaulay_duration</th>\n",
       "    </tr>\n",
       "    <tr>\n",
       "      <th>DATA_REFERENCIA</th>\n",
       "      <th></th>\n",
       "      <th></th>\n",
       "      <th></th>\n",
       "      <th></th>\n",
       "      <th></th>\n",
       "      <th></th>\n",
       "      <th></th>\n",
       "      <th></th>\n",
       "    </tr>\n",
       "  </thead>\n",
       "  <tbody>\n",
       "    <tr>\n",
       "      <th>2023-07-03</th>\n",
       "      <td>LTN</td>\n",
       "      <td>2024-10-01</td>\n",
       "      <td>11.0232</td>\n",
       "      <td>877.471104</td>\n",
       "      <td>0</td>\n",
       "      <td>0.0</td>\n",
       "      <td>1.250000</td>\n",
       "      <td>1.250000</td>\n",
       "    </tr>\n",
       "    <tr>\n",
       "      <th>2023-07-03</th>\n",
       "      <td>LTN</td>\n",
       "      <td>2025-01-01</td>\n",
       "      <td>10.6656</td>\n",
       "      <td>858.630640</td>\n",
       "      <td>0</td>\n",
       "      <td>0.0</td>\n",
       "      <td>1.500000</td>\n",
       "      <td>1.500000</td>\n",
       "    </tr>\n",
       "    <tr>\n",
       "      <th>2023-07-03</th>\n",
       "      <td>LTN</td>\n",
       "      <td>2025-04-01</td>\n",
       "      <td>10.4497</td>\n",
       "      <td>840.685083</td>\n",
       "      <td>0</td>\n",
       "      <td>0.0</td>\n",
       "      <td>1.746032</td>\n",
       "      <td>1.746032</td>\n",
       "    </tr>\n",
       "    <tr>\n",
       "      <th>2023-07-03</th>\n",
       "      <td>LTN</td>\n",
       "      <td>2025-07-01</td>\n",
       "      <td>10.2747</td>\n",
       "      <td>823.292000</td>\n",
       "      <td>0</td>\n",
       "      <td>0.0</td>\n",
       "      <td>1.988095</td>\n",
       "      <td>1.988095</td>\n",
       "    </tr>\n",
       "    <tr>\n",
       "      <th>2023-07-03</th>\n",
       "      <td>LTN</td>\n",
       "      <td>2026-01-01</td>\n",
       "      <td>10.0743</td>\n",
       "      <td>786.057522</td>\n",
       "      <td>0</td>\n",
       "      <td>0.0</td>\n",
       "      <td>2.503968</td>\n",
       "      <td>2.503968</td>\n",
       "    </tr>\n",
       "    <tr>\n",
       "      <th>...</th>\n",
       "      <td>...</td>\n",
       "      <td>...</td>\n",
       "      <td>...</td>\n",
       "      <td>...</td>\n",
       "      <td>...</td>\n",
       "      <td>...</td>\n",
       "      <td>...</td>\n",
       "      <td>...</td>\n",
       "    </tr>\n",
       "    <tr>\n",
       "      <th>2023-08-02</th>\n",
       "      <td>NTN-F</td>\n",
       "      <td>2025-01-01</td>\n",
       "      <td>10.7753</td>\n",
       "      <td>998.588004</td>\n",
       "      <td>10</td>\n",
       "      <td>[152, 334, 518]</td>\n",
       "      <td>1.412698</td>\n",
       "      <td>1.060102</td>\n",
       "    </tr>\n",
       "    <tr>\n",
       "      <th>2023-08-02</th>\n",
       "      <td>NTN-F</td>\n",
       "      <td>2027-01-01</td>\n",
       "      <td>10.1920</td>\n",
       "      <td>1003.263292</td>\n",
       "      <td>10</td>\n",
       "      <td>[152, 334, 518, 699, 883, 1064, 1248]</td>\n",
       "      <td>3.408730</td>\n",
       "      <td>1.097836</td>\n",
       "    </tr>\n",
       "    <tr>\n",
       "      <th>2023-08-02</th>\n",
       "      <td>NTN-F</td>\n",
       "      <td>2029-01-01</td>\n",
       "      <td>10.5220</td>\n",
       "      <td>989.244392</td>\n",
       "      <td>10</td>\n",
       "      <td>[152, 334, 518, 699, 883, 1064, 1248, 1429, 16...</td>\n",
       "      <td>5.392857</td>\n",
       "      <td>1.095037</td>\n",
       "    </tr>\n",
       "    <tr>\n",
       "      <th>2023-08-02</th>\n",
       "      <td>NTN-F</td>\n",
       "      <td>2031-01-01</td>\n",
       "      <td>10.6385</td>\n",
       "      <td>978.875085</td>\n",
       "      <td>10</td>\n",
       "      <td>[152, 334, 518, 699, 883, 1064, 1248, 1429, 16...</td>\n",
       "      <td>7.388889</td>\n",
       "      <td>1.093998</td>\n",
       "    </tr>\n",
       "    <tr>\n",
       "      <th>2023-08-02</th>\n",
       "      <td>NTN-F</td>\n",
       "      <td>2033-01-01</td>\n",
       "      <td>10.7100</td>\n",
       "      <td>969.750914</td>\n",
       "      <td>10</td>\n",
       "      <td>[152, 334, 518, 699, 883, 1064, 1248, 1429, 16...</td>\n",
       "      <td>9.392857</td>\n",
       "      <td>1.093371</td>\n",
       "    </tr>\n",
       "  </tbody>\n",
       "</table>\n",
       "<p>24857 rows × 8 columns</p>\n",
       "</div>"
      ],
      "text/plain": [
       "                CODIGO DATA_VENCIMENTO  EXPECTATIVA           PU  Coupon  \\\n",
       "DATA_REFERENCIA                                                            \n",
       "2023-07-03         LTN      2024-10-01      11.0232   877.471104       0   \n",
       "2023-07-03         LTN      2025-01-01      10.6656   858.630640       0   \n",
       "2023-07-03         LTN      2025-04-01      10.4497   840.685083       0   \n",
       "2023-07-03         LTN      2025-07-01      10.2747   823.292000       0   \n",
       "2023-07-03         LTN      2026-01-01      10.0743   786.057522       0   \n",
       "...                ...             ...          ...          ...     ...   \n",
       "2023-08-02       NTN-F      2025-01-01      10.7753   998.588004      10   \n",
       "2023-08-02       NTN-F      2027-01-01      10.1920  1003.263292      10   \n",
       "2023-08-02       NTN-F      2029-01-01      10.5220   989.244392      10   \n",
       "2023-08-02       NTN-F      2031-01-01      10.6385   978.875085      10   \n",
       "2023-08-02       NTN-F      2033-01-01      10.7100   969.750914      10   \n",
       "\n",
       "                                                       Coupon_Days  Maturity  \\\n",
       "DATA_REFERENCIA                                                                \n",
       "2023-07-03                                                     0.0  1.250000   \n",
       "2023-07-03                                                     0.0  1.500000   \n",
       "2023-07-03                                                     0.0  1.746032   \n",
       "2023-07-03                                                     0.0  1.988095   \n",
       "2023-07-03                                                     0.0  2.503968   \n",
       "...                                                            ...       ...   \n",
       "2023-08-02                                         [152, 334, 518]  1.412698   \n",
       "2023-08-02                   [152, 334, 518, 699, 883, 1064, 1248]  3.408730   \n",
       "2023-08-02       [152, 334, 518, 699, 883, 1064, 1248, 1429, 16...  5.392857   \n",
       "2023-08-02       [152, 334, 518, 699, 883, 1064, 1248, 1429, 16...  7.388889   \n",
       "2023-08-02       [152, 334, 518, 699, 883, 1064, 1248, 1429, 16...  9.392857   \n",
       "\n",
       "                 Macaulay_duration  \n",
       "DATA_REFERENCIA                     \n",
       "2023-07-03                1.250000  \n",
       "2023-07-03                1.500000  \n",
       "2023-07-03                1.746032  \n",
       "2023-07-03                1.988095  \n",
       "2023-07-03                2.503968  \n",
       "...                            ...  \n",
       "2023-08-02                1.060102  \n",
       "2023-08-02                1.097836  \n",
       "2023-08-02                1.095037  \n",
       "2023-08-02                1.093998  \n",
       "2023-08-02                1.093371  \n",
       "\n",
       "[24857 rows x 8 columns]"
      ]
     },
     "execution_count": 514,
     "metadata": {},
     "output_type": "execute_result"
    }
   ],
   "source": [
    "df.head()"
   ]
  },
  {
   "cell_type": "markdown",
   "id": "b01e4b95",
   "metadata": {},
   "source": [
    "\n",
    "### Generating individuals"
   ]
  },
  {
   "cell_type": "code",
   "execution_count": 304,
   "id": "15c92863",
   "metadata": {},
   "outputs": [],
   "source": [
    "N =1200             ### Number of individuals \n",
    "p = int(2/3*N)      ### Proportion of individuals generated by method 1\n",
    "var = 0.25           ### variance normal distribution\n",
    "\n",
    "### 1 - Initial Values of the results of the estimation of the previous day\n",
    "\n",
    "ref_date_str = \"2023-07-27\"\n",
    "ref_date = datetime.strptime(ref_date_str, \"%Y-%m-%d\")\n",
    "previous_date = cal.offset(ref_date_str,-1)\n",
    "previous_parameters = parameters.loc[str(previous_date)][1:]\n",
    "beta_star_1 = np.array([previous_parameters.replace(previous_parameters[1],previous_parameters[0])])\n",
    "e_previous = beta_star_1.T*np.random.normal(0, var, size=(6, p))\n",
    "beta_previous = beta_star_1.T + e_previous\n",
    "\n",
    "### 2 - Approximation that takes into account the observed yield to maturity (ytm)\n",
    "\n",
    "data_estimada = df.loc[ref_date_str]\n",
    "data_estimada=data_estimada.sort_values(\"Maturity\")\n",
    "b1 = data_estimada[\"EXPECTATIVA\"][0]/100\n",
    "b2 = data_estimada[\"EXPECTATIVA\"][-1]/100 - data_estimada[\"EXPECTATIVA\"][0]/100\n",
    "b3 = 0\n",
    "b4 = 0\n",
    "lbda1 = previous_parameters[4]\n",
    "lbda2 = previous_parameters[5]\n",
    "#lbda1 = (data_estimada[\"Maturity\"][-1]-data_estimada[\"Maturity\"][0])/2\n",
    "#lbda2 = lbda1\n",
    "beta_star_2 = np.array([b1, b2, b3 , b4, lbda1, lbda2])[:, np.newaxis]\n",
    "e_approx = beta_star_2*np.random.normal(0, var, size=(6, N-p))\n",
    "beta_approx = beta_star_2 + e_approx ## ajustar colunas\n",
    "\n",
    "### Adding constraints to the parameters\n",
    "\n",
    "def update (betas,beta_star):\n",
    "    updated_value = []\n",
    "    for index, parameter in enumerate(betas):\n",
    "        if parameter[0]<0:\n",
    "            betas[index][0] = beta_star[0]+ beta_star[0]*np.random.normal(0, var)\n",
    "            updated_value.append(betas[index][0]<0)\n",
    "        if (parameter[0]+parameter[1])<0:\n",
    "            betas[index][1] = beta_star[1]+ beta_star[1]*np.random.normal(0, var)\n",
    "            updated_value.append((betas[index][0]+betas[index][1])<0)\n",
    "        if parameter[4]<0:\n",
    "            betas[index][4] = beta_star[4]+ beta_star[4]*np.random.normal(0, var)\n",
    "            updated_value.append(betas[index][4]<0)\n",
    "        if parameter[5]<0:\n",
    "            betas[index][5] = beta_star[5]+ beta_star[5]*np.random.normal(0, var)\n",
    "            updated_value.append(betas[index][5]<0)\n",
    "    if sum(updated_value) != 0:\n",
    "        update(betas,beta_star)\n",
    "    return(beta_previous.T)\n",
    "\n",
    "update(beta_previous.T,beta_star_1.T)\n",
    "update(beta_approx,beta_star_2)\n",
    "\n",
    "individuals = np.concatenate((beta_previous.T, beta_approx.T), axis=0)"
   ]
  },
  {
   "cell_type": "markdown",
   "id": "f0f27240",
   "metadata": {},
   "source": [
    "### Selection"
   ]
  },
  {
   "cell_type": "code",
   "execution_count": 306,
   "id": "1913f806",
   "metadata": {},
   "outputs": [
    {
     "data": {
      "text/html": [
       "<div>\n",
       "<style scoped>\n",
       "    .dataframe tbody tr th:only-of-type {\n",
       "        vertical-align: middle;\n",
       "    }\n",
       "\n",
       "    .dataframe tbody tr th {\n",
       "        vertical-align: top;\n",
       "    }\n",
       "\n",
       "    .dataframe thead th {\n",
       "        text-align: right;\n",
       "    }\n",
       "</style>\n",
       "<table border=\"1\" class=\"dataframe\">\n",
       "  <thead>\n",
       "    <tr style=\"text-align: right;\">\n",
       "      <th></th>\n",
       "      <th>SC</th>\n",
       "      <th>Parameters</th>\n",
       "    </tr>\n",
       "  </thead>\n",
       "  <tbody>\n",
       "    <tr>\n",
       "      <th>635</th>\n",
       "      <td>312.4</td>\n",
       "      <td>[0.11131210087839491, 0.03367378751867553, 0.0...</td>\n",
       "    </tr>\n",
       "    <tr>\n",
       "      <th>577</th>\n",
       "      <td>313.8</td>\n",
       "      <td>[0.11238798910747792, 0.03489562922456517, 0.0...</td>\n",
       "    </tr>\n",
       "    <tr>\n",
       "      <th>37</th>\n",
       "      <td>318.0</td>\n",
       "      <td>[0.11205977182442241, 0.03515916040526857, 0.0...</td>\n",
       "    </tr>\n",
       "    <tr>\n",
       "      <th>314</th>\n",
       "      <td>318.3</td>\n",
       "      <td>[0.11166329981010785, 0.034902109016119454, 0....</td>\n",
       "    </tr>\n",
       "    <tr>\n",
       "      <th>1134</th>\n",
       "      <td>318.7</td>\n",
       "      <td>[0.11164583592083002, 0.03480846266782341, 0.0...</td>\n",
       "    </tr>\n",
       "  </tbody>\n",
       "</table>\n",
       "</div>"
      ],
      "text/plain": [
       "         SC                                         Parameters\n",
       "635   312.4  [0.11131210087839491, 0.03367378751867553, 0.0...\n",
       "577   313.8  [0.11238798910747792, 0.03489562922456517, 0.0...\n",
       "37    318.0  [0.11205977182442241, 0.03515916040526857, 0.0...\n",
       "314   318.3  [0.11166329981010785, 0.034902109016119454, 0....\n",
       "1134  318.7  [0.11164583592083002, 0.03480846266782341, 0.0..."
      ]
     },
     "execution_count": 306,
     "metadata": {},
     "output_type": "execute_result"
    }
   ],
   "source": [
    "alpha = 6\n",
    "var = 0.25\n",
    "pi = 0.35\n",
    "### 40% of the individuals survive\n",
    "s = int(0.4 * N)\n",
    "\n",
    "def myval(c):\n",
    "    nss =(c[0])+(c[1]*((1-np.exp(-df['Maturity']*c[4]))/(df['Maturity']*c[4])))+(c[2]*((((1-np.exp(-df['Maturity']*c[4]))/(df['Maturity']*c[4])))-(np.exp(-df['Maturity']*c[4]))))+(c[3]*((((1-np.exp(-df['Maturity']*c[5]))/(df['Maturity']*c[5])))-(np.exp(-df['Maturity']*c[5]))))\n",
    "    Calculated_price  = 1000 / (1 + nss) ** df['Maturity'] \n",
    "    df['Residual'] =  ((df['PU'] - Calculated_price)**2)*(1/df[\"Macaulay_duration\"]**0.5)\n",
    "    val = np.sum(df['Residual'])\n",
    "    return(val)\n",
    "\n",
    "for interation in range(10):\n",
    "\n",
    "    values = []\n",
    "    \n",
    "    for row in individuals:    \n",
    "        val = myval(row)\n",
    "        values.append((round(val,1), row)) \n",
    "    sol = pd.DataFrame(values, columns=['SC', \"Parameters\"]).sort_values('SC')\n",
    "\n",
    "    selection = sol.sort_values('SC')[0:s]\n",
    "\n",
    "\n",
    "    next_gen = []\n",
    "    e_mutation = []\n",
    "    new_individuals = []\n",
    "    \n",
    "    if interation > 1:\n",
    "        var = var*1.02\n",
    "\n",
    "    while len(new_individuals)<N:\n",
    "        \n",
    "        psi = np.random.uniform(0, 1)\n",
    "        theta_r = np.concatenate(selection.iloc[(np.random.beta(1,alpha, 1)*s),:][\"Parameters\"].values)\n",
    "        theta_s = np.concatenate(selection.iloc[(np.random.beta(1,alpha, 1)*s),:][\"Parameters\"].values)\n",
    "        next_gen.append(psi*theta_r+(1-psi)*theta_s)\n",
    "        e = np.random.normal(0, var, 6)*np.random.choice([0, 1], size=6, p=[1 - pi, pi])\n",
    "        e_mutation.append(e)        \n",
    "        #new_ind = (np.array(next_gen)+np.array(next_gen)*np.array(e_mutation)).flatten() \n",
    "        #conditions = [new_ind[0]>0, (new_ind[0]+new_ind[1])>0 , new_ind[4]>0, new_ind[5]>0]\n",
    "        #if all(conditions):         \n",
    "        #new_individuals.append(new_ind.tolist())\n",
    "        new_individuals = np.array(next_gen)+np.array(next_gen)*np.array(e_mutation)\n",
    "         \n",
    "    individuals = new_individuals\n",
    "\n",
    "        \n",
    "selection.head()"
   ]
  },
  {
   "cell_type": "code",
   "execution_count": 272,
   "id": "8756fab3",
   "metadata": {},
   "outputs": [
    {
     "data": {
      "text/plain": [
       "array([array([ 0.11031102,  0.06194832,  0.05029979, -0.08088328,  3.60648734,\n",
       "               1.37690024])                                                   ],\n",
       "      dtype=object)"
      ]
     },
     "execution_count": 272,
     "metadata": {},
     "output_type": "execute_result"
    }
   ],
   "source": [
    "selection.iloc[(np.random.beta(1,alpha, 1)*s),:][\"Parameters\"].values"
   ]
  },
  {
   "cell_type": "code",
   "execution_count": 274,
   "id": "5c7ef6ce",
   "metadata": {},
   "outputs": [
    {
     "data": {
      "text/plain": [
       "array([[ 0.14614886,  0.06288971,  0.04221766, -0.04968488,  3.1915174 ,\n",
       "         1.59896257],\n",
       "       [ 0.11064635,  0.07328342,  0.03752601, -0.07781479,  3.89158909,\n",
       "         0.92488109],\n",
       "       [ 0.10993794,  0.05489933,  0.03841382, -0.07425823,  3.14481483,\n",
       "         1.3527404 ],\n",
       "       ...,\n",
       "       [ 0.11027633,  0.05609518,  0.04903437, -0.07601721,  2.99282461,\n",
       "         0.98096726],\n",
       "       [ 0.11095689,  0.02377505,  0.0429298 , -0.08327817,  3.26733883,\n",
       "         1.44568431],\n",
       "       [ 0.09382207,  0.05949227,  0.02126772, -0.08078642,  3.19493872,\n",
       "         1.0766341 ]])"
      ]
     },
     "execution_count": 274,
     "metadata": {},
     "output_type": "execute_result"
    }
   ],
   "source": [
    "individuals"
   ]
  },
  {
   "cell_type": "code",
   "execution_count": 183,
   "id": "c535b41d",
   "metadata": {},
   "outputs": [],
   "source": [
    "dia27 = selection.iloc[0][1]\n",
    "dia27_anbima = parameters.iloc[-2,1:].values\n",
    "\n"
   ]
  },
  {
   "cell_type": "code",
   "execution_count": 184,
   "id": "1fdd0c2b",
   "metadata": {},
   "outputs": [
    {
     "data": {
      "text/plain": [
       "Text(0.5, 1.0, '2023-07-27 00:00:00')"
      ]
     },
     "execution_count": 184,
     "metadata": {},
     "output_type": "execute_result"
    },
    {
     "data": {
      "image/png": "[encoded data removed]",
      "text/plain": [
       "<Figure size 640x480 with 1 Axes>"
      ]
     },
     "metadata": {},
     "output_type": "display_data"
    }
   ],
   "source": [
    "rounded_series = selection[\"Parameters\"].apply(lambda lst: [round(x, 1) for x in lst])\n",
    "rounded_series[0:99]\n",
    "plt.plot(dia27)\n",
    "plt.plot(dia27_anbima)\n",
    "plt.title(f'{ref_date}')"
   ]
  },
  {
   "cell_type": "code",
   "execution_count": 179,
   "id": "612ef452",
   "metadata": {},
   "outputs": [
    {
     "data": {
      "text/plain": [
       "False"
      ]
     },
     "execution_count": 179,
     "metadata": {},
     "output_type": "execute_result"
    }
   ],
   "source": [
    "rounded_series.apply(lambda x: x == rounded_series.iloc[0]).all()"
   ]
  },
  {
   "cell_type": "code",
   "execution_count": 180,
   "id": "222720b6",
   "metadata": {},
   "outputs": [
    {
     "data": {
      "text/plain": [
       "715      402.0\n",
       "131     1098.0\n",
       "66      1574.0\n",
       "904     1765.0\n",
       "984     1771.0\n",
       "         ...  \n",
       "559     9433.0\n",
       "1030    9710.0\n",
       "588     9755.0\n",
       "44      9782.0\n",
       "48      9946.0\n",
       "Name: SC, Length: 99, dtype: float64"
      ]
     },
     "execution_count": 180,
     "metadata": {},
     "output_type": "execute_result"
    }
   ],
   "source": [
    "np.round(selection[\"SC\"][0:99], decimals = 0)"
   ]
  },
  {
   "cell_type": "code",
   "execution_count": null,
   "id": "1ec303d1",
   "metadata": {},
   "outputs": [],
   "source": []
  }
 ],
 "metadata": {
  "kernelspec": {
   "display_name": "Python 3 (ipykernel)",
   "language": "python",
   "name": "python3"
  },
  "language_info": {
   "codemirror_mode": {
    "name": "ipython",
    "version": 3
   },
   "file_extension": ".py",
   "mimetype": "text/x-python",
   "name": "python",
   "nbconvert_exporter": "python",
   "pygments_lexer": "ipython3",
   "version": "3.11.3"
  }
 },
 "nbformat": 4,
 "nbformat_minor": 5
}
