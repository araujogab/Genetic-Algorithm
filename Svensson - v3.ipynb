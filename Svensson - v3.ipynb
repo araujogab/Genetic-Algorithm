{
 "cells": [
  {
   "cell_type": "markdown",
   "id": "d6600b5b",
   "metadata": {},
   "source": [
    "# Svensson (1994)"
   ]
  },
  {
   "cell_type": "markdown",
   "id": "2ea11aa8",
   "metadata": {},
   "source": [
    "\n",
    "\n",
    "$$ r(t) = \\beta_1 + \\beta_2\\frac{1-e^{-\\lambda_1 t}}{\\lambda_1 t} \n",
    "        + \\beta_3 \\left(\\frac{1-e^{-\\lambda_1 t}}{\\lambda_1 t}-e^{-\\lambda_1 t}\\right)\n",
    "        + \\beta_4 \\left(\\frac{1-e^{-\\lambda_2 t}}{\\lambda_2 t}-e^{-\\lambda_2 t}\\right)$$"
   ]
  },
  {
   "cell_type": "markdown",
   "id": "f931bc69",
   "metadata": {},
   "source": [
    "### Importing the data"
   ]
  },
  {
   "cell_type": "code",
   "execution_count": 1,
   "id": "2ed72081",
   "metadata": {},
   "outputs": [],
   "source": [
    "from scipy.optimize import fmin\n",
    "from datetime import datetime, timedelta\n",
    "import pandas as pd\n",
    "import numpy as np\n",
    "import datetime as dt\n",
    "from bizdays import Calendar\n",
    "\n",
    "path = r\"C:\\Users\\Alysson\\Documents\\GitHub\\Monetary-Shocks\\Brasil\\ETTJ\\Base_LTN.xlsx\"\n",
    "path2 = r\"C:\\Users\\Alysson\\Documents\\GitHub\\Monetary-Shocks\\Brasil\\ETTJ\\Parametros.xlsx\"\n",
    "df = pd.read_excel(path)\n",
    "parameters = pd.read_excel(path2)"
   ]
  },
  {
   "cell_type": "code",
   "execution_count": 2,
   "id": "d024534e",
   "metadata": {},
   "outputs": [],
   "source": [
    "cal = Calendar.load(\"ANBIMA\")\n",
    "parameters.set_index(\"Data referência\", inplace=True)\n",
    "\n",
    "### Maturity Calculation\n",
    "\n",
    "df[\"Maturity\"] = np.array(cal.bizdays(df[\"DATA_REFERENCIA\"], df[\"DATA_VENCIMENTO\"]))/252\n",
    "df.set_index(\"DATA_REFERENCIA\", inplace=True)\n",
    "\n",
    "### Duration Calculation\n",
    "\n",
    "cpn = 0\n",
    "yld = df[\"EXPECTATIVA\"]\n",
    "m = 1\n",
    "n = df[\"Maturity\"]\n",
    "\n",
    "df[\"Macaulay_duration\"] = ((1+yld) / (m*yld)) - ( (1 + yld + n*(cpn-yld)) / ((m*cpn* ((1+yld)**n - 1)) + m*yld) )"
   ]
  },
  {
   "cell_type": "code",
   "execution_count": 3,
   "id": "7cc69905",
   "metadata": {},
   "outputs": [
    {
     "data": {
      "text/html": [
       "<div>\n",
       "<style scoped>\n",
       "    .dataframe tbody tr th:only-of-type {\n",
       "        vertical-align: middle;\n",
       "    }\n",
       "\n",
       "    .dataframe tbody tr th {\n",
       "        vertical-align: top;\n",
       "    }\n",
       "\n",
       "    .dataframe thead th {\n",
       "        text-align: right;\n",
       "    }\n",
       "</style>\n",
       "<table border=\"1\" class=\"dataframe\">\n",
       "  <thead>\n",
       "    <tr style=\"text-align: right;\">\n",
       "      <th></th>\n",
       "      <th>CODIGO</th>\n",
       "      <th>DATA_VENCIMENTO</th>\n",
       "      <th>EXPECTATIVA</th>\n",
       "      <th>PU</th>\n",
       "      <th>Maturity</th>\n",
       "      <th>Macaulay_duration</th>\n",
       "    </tr>\n",
       "    <tr>\n",
       "      <th>DATA_REFERENCIA</th>\n",
       "      <th></th>\n",
       "      <th></th>\n",
       "      <th></th>\n",
       "      <th></th>\n",
       "      <th></th>\n",
       "      <th></th>\n",
       "    </tr>\n",
       "  </thead>\n",
       "  <tbody>\n",
       "    <tr>\n",
       "      <th>2023-07-03</th>\n",
       "      <td>LTN</td>\n",
       "      <td>2023-10-01</td>\n",
       "      <td>13.2025</td>\n",
       "      <td>968.996662</td>\n",
       "      <td>0.250000</td>\n",
       "      <td>0.250000</td>\n",
       "    </tr>\n",
       "    <tr>\n",
       "      <th>2023-07-03</th>\n",
       "      <td>LTN</td>\n",
       "      <td>2024-01-01</td>\n",
       "      <td>12.7468</td>\n",
       "      <td>942.225059</td>\n",
       "      <td>0.492063</td>\n",
       "      <td>0.492063</td>\n",
       "    </tr>\n",
       "    <tr>\n",
       "      <th>2023-07-03</th>\n",
       "      <td>LTN</td>\n",
       "      <td>2024-04-01</td>\n",
       "      <td>12.1642</td>\n",
       "      <td>918.761537</td>\n",
       "      <td>0.738095</td>\n",
       "      <td>0.738095</td>\n",
       "    </tr>\n",
       "    <tr>\n",
       "      <th>2023-07-03</th>\n",
       "      <td>LTN</td>\n",
       "      <td>2024-07-01</td>\n",
       "      <td>11.5298</td>\n",
       "      <td>897.786879</td>\n",
       "      <td>0.988095</td>\n",
       "      <td>0.988095</td>\n",
       "    </tr>\n",
       "    <tr>\n",
       "      <th>2023-07-03</th>\n",
       "      <td>LTN</td>\n",
       "      <td>2024-10-01</td>\n",
       "      <td>11.0232</td>\n",
       "      <td>877.471104</td>\n",
       "      <td>1.250000</td>\n",
       "      <td>1.250000</td>\n",
       "    </tr>\n",
       "  </tbody>\n",
       "</table>\n",
       "</div>"
      ],
      "text/plain": [
       "                CODIGO DATA_VENCIMENTO  EXPECTATIVA          PU  Maturity  \\\n",
       "DATA_REFERENCIA                                                             \n",
       "2023-07-03         LTN      2023-10-01      13.2025  968.996662  0.250000   \n",
       "2023-07-03         LTN      2024-01-01      12.7468  942.225059  0.492063   \n",
       "2023-07-03         LTN      2024-04-01      12.1642  918.761537  0.738095   \n",
       "2023-07-03         LTN      2024-07-01      11.5298  897.786879  0.988095   \n",
       "2023-07-03         LTN      2024-10-01      11.0232  877.471104  1.250000   \n",
       "\n",
       "                 Macaulay_duration  \n",
       "DATA_REFERENCIA                     \n",
       "2023-07-03                0.250000  \n",
       "2023-07-03                0.492063  \n",
       "2023-07-03                0.738095  \n",
       "2023-07-03                0.988095  \n",
       "2023-07-03                1.250000  "
      ]
     },
     "execution_count": 3,
     "metadata": {},
     "output_type": "execute_result"
    }
   ],
   "source": [
    "df.head()"
   ]
  },
  {
   "cell_type": "markdown",
   "id": "b01e4b95",
   "metadata": {},
   "source": [
    "### Generating individuals"
   ]
  },
  {
   "cell_type": "code",
   "execution_count": 4,
   "id": "15c92863",
   "metadata": {},
   "outputs": [],
   "source": [
    "N =1200             ### Number of individuals \n",
    "p = int(2/3*N)      ### Proportion of individuals generated by method 1\n",
    "var = 0.5           ### variance normal distribution\n",
    "\n",
    "### 1 - Initial Values of the results of the estimation of the previous day\n",
    "\n",
    "ref_date_str = \"2023-07-11\"\n",
    "ref_date = datetime.strptime(ref_date_str, \"%Y-%m-%d\")\n",
    "previous_date = cal.offset(ref_date_str,-1)\n",
    "previous_parameters = parameters.loc[str(previous_date)][1:]\n",
    "beta_star_1 = np.array([previous_parameters.replace(previous_parameters[1],previous_parameters[0])])\n",
    "e_previous = beta_star_1.T*np.random.normal(0, var, size=(6, p))\n",
    "beta_previous = beta_star_1.T + e_previous\n",
    "\n",
    "### 2 - Approximation that takes into account the observed yield to maturity (ytm)\n",
    "\n",
    "data_estimada = df.loc[ref_date_str]\n",
    "data_estimada.sort_values(\"Maturity\")\n",
    "b1 = data_estimada[\"EXPECTATIVA\"][0]/100\n",
    "b2 = data_estimada[\"EXPECTATIVA\"][-1]/100 - data_estimada[\"EXPECTATIVA\"][0]/100\n",
    "b3 = 0\n",
    "b4 = 0\n",
    "lbda1 = (data_estimada[\"Maturity\"][-1]-data_estimada[\"Maturity\"][0])/2\n",
    "lbda2 = lbda1\n",
    "beta_star_2 = np.array([b1, b2, b3 , b4, lbda1, lbda2])[:, np.newaxis]\n",
    "e_approx = beta_star_2*np.random.normal(0, var, size=(6, N-p))\n",
    "beta_approx = beta_star_2 + e_approx ## ajustar colunas\n",
    "\n",
    "### Adding constraints to the parameters\n",
    "\n",
    "def update (betas,beta_star):\n",
    "    updated_value = []\n",
    "    for index, parameter in enumerate(betas):\n",
    "        if parameter[0]<0:\n",
    "            betas[index][0] = beta_star[0]+ beta_star[0]*np.random.normal(0, var)\n",
    "            updated_value.append(betas[index][0]<0)\n",
    "        if (parameter[0]+parameter[1])<0:\n",
    "            betas[index][1] = beta_star[1]+ beta_star[1]*np.random.normal(0, var)\n",
    "            updated_value.append((betas[index][0]+betas[index][1])<0)\n",
    "        if parameter[4]<0:\n",
    "            betas[index][4] = beta_star[4]+ beta_star[4]*np.random.normal(0, var)\n",
    "            updated_value.append(betas[index][4]<0)\n",
    "        if parameter[5]<0:\n",
    "            betas[index][5] = beta_star[5]+ beta_star[5]*np.random.normal(0, var)\n",
    "            updated_value.append(betas[index][5]<0)\n",
    "    if sum(updated_value) != 0:\n",
    "        update(betas,beta_star)\n",
    "    return(beta_previous.T)\n",
    "\n",
    "update(beta_previous.T,beta_star_1.T)\n",
    "update(beta_approx,beta_star_2)\n",
    "\n",
    "individuals = np.concatenate((beta_previous.T, beta_approx.T), axis=0)"
   ]
  },
  {
   "cell_type": "markdown",
   "id": "f0f27240",
   "metadata": {},
   "source": [
    "### Selection"
   ]
  },
  {
   "cell_type": "code",
   "execution_count": 5,
   "id": "1913f806",
   "metadata": {},
   "outputs": [
    {
     "data": {
      "text/html": [
       "<div>\n",
       "<style scoped>\n",
       "    .dataframe tbody tr th:only-of-type {\n",
       "        vertical-align: middle;\n",
       "    }\n",
       "\n",
       "    .dataframe tbody tr th {\n",
       "        vertical-align: top;\n",
       "    }\n",
       "\n",
       "    .dataframe thead th {\n",
       "        text-align: right;\n",
       "    }\n",
       "</style>\n",
       "<table border=\"1\" class=\"dataframe\">\n",
       "  <thead>\n",
       "    <tr style=\"text-align: right;\">\n",
       "      <th></th>\n",
       "      <th>SC</th>\n",
       "      <th>Parameters</th>\n",
       "    </tr>\n",
       "  </thead>\n",
       "  <tbody>\n",
       "    <tr>\n",
       "      <th>119</th>\n",
       "      <td>348.752412</td>\n",
       "      <td>[0.11562896391807664, 0.02874698799468447, 0.0...</td>\n",
       "    </tr>\n",
       "    <tr>\n",
       "      <th>493</th>\n",
       "      <td>418.609071</td>\n",
       "      <td>[0.11092493024107283, 0.027524411701347246, 0....</td>\n",
       "    </tr>\n",
       "    <tr>\n",
       "      <th>171</th>\n",
       "      <td>424.464017</td>\n",
       "      <td>[0.11680754022751536, 0.033205777645214, 0.040...</td>\n",
       "    </tr>\n",
       "    <tr>\n",
       "      <th>925</th>\n",
       "      <td>445.059827</td>\n",
       "      <td>[0.10822755825748963, 0.04376164432895183, 0.0...</td>\n",
       "    </tr>\n",
       "    <tr>\n",
       "      <th>723</th>\n",
       "      <td>448.002733</td>\n",
       "      <td>[0.1086349048494158, 0.03250187039259035, 0.05...</td>\n",
       "    </tr>\n",
       "  </tbody>\n",
       "</table>\n",
       "</div>"
      ],
      "text/plain": [
       "             SC                                         Parameters\n",
       "119  348.752412  [0.11562896391807664, 0.02874698799468447, 0.0...\n",
       "493  418.609071  [0.11092493024107283, 0.027524411701347246, 0....\n",
       "171  424.464017  [0.11680754022751536, 0.033205777645214, 0.040...\n",
       "925  445.059827  [0.10822755825748963, 0.04376164432895183, 0.0...\n",
       "723  448.002733  [0.1086349048494158, 0.03250187039259035, 0.05..."
      ]
     },
     "execution_count": 5,
     "metadata": {},
     "output_type": "execute_result"
    }
   ],
   "source": [
    "### add duration and coupons\n",
    "alpha = 6\n",
    "var = 0.5\n",
    "pi = 0.35\n",
    "### 40% of the individuals survive\n",
    "s = int(0.4 * N)\n",
    "\n",
    "\n",
    "for interation in range(5):\n",
    "\n",
    "    values = []\n",
    "    \n",
    "    for row in individuals:\n",
    "        def myval(c):\n",
    "            nss =(c[0])+(c[1]*((1-np.exp(-df['Maturity']*c[4]))/(df['Maturity']*c[4])))+(c[2]*((((1-np.exp(-df['Maturity']*c[4]))/(df['Maturity']*c[4])))-(np.exp(-df['Maturity']*c[4]))))+(c[3]*((((1-np.exp(-df['Maturity']*c[5]))/(df['Maturity']*c[5])))-(np.exp(-df['Maturity']*c[5]))))\n",
    "            Calculated_price  = 1000 / (1 + nss) ** df['Maturity'] \n",
    "            df['Residual'] =  (df['PU'] - Calculated_price)**2*(1/df[\"Macaulay_duration\"]**0.5)\n",
    "            val = np.sum(df['Residual'])\n",
    "            return(val)\n",
    "    \n",
    "        val = myval(row)\n",
    "        values.append((val, row)) \n",
    "    sol = pd.DataFrame(values, columns=['SC', \"Parameters\"]).sort_values('SC')\n",
    "\n",
    "    selection = sol.sort_values('SC')[0:s]\n",
    "\n",
    "\n",
    "    next_gen = []\n",
    "    e_mutation = []\n",
    "    \n",
    "    if interation > 1:\n",
    "        var = var*1.02\n",
    "\n",
    "    for num in range(N):\n",
    "        psi = np.random.uniform(0, 1)\n",
    "        theta_r = np.concatenate(selection.iloc[(np.random.beta(1,alpha, 1)*s),:][\"Parameters\"].values)\n",
    "        theta_s = np.concatenate(selection.iloc[(np.random.beta(1,alpha, 1)*s),:][\"Parameters\"].values)\n",
    "        next_gen.append(psi*theta_r+(1-psi)*theta_s)\n",
    "        e = np.random.normal(0, var, 6)*np.random.choice([0, 1], size=6, p=[1 - pi, pi])\n",
    "        e_mutation.append(e)\n",
    "\n",
    "    individuals = np.array(next_gen) + np.array(next_gen)*np.array(e_mutation)\n",
    "\n",
    "selection.head()"
   ]
  },
  {
   "cell_type": "code",
   "execution_count": null,
   "id": "1d6f7b18",
   "metadata": {},
   "outputs": [],
   "source": [
    "\n",
    "dic[f\"{ref_date_str}\"]=selection.iloc[0]"
   ]
  },
  {
   "cell_type": "code",
   "execution_count": null,
   "id": "c535b41d",
   "metadata": {},
   "outputs": [],
   "source": [
    "curves = pd.DataFrame(dic)\n",
    "curves"
   ]
  },
  {
   "cell_type": "code",
   "execution_count": null,
   "id": "1fdd0c2b",
   "metadata": {},
   "outputs": [],
   "source": [
    "rounded_series = selection[\"Parameters\"].apply(lambda lst: [round(x, 1) for x in lst])\n",
    "rounded_series[0:99]"
   ]
  },
  {
   "cell_type": "code",
   "execution_count": null,
   "id": "1eee387c",
   "metadata": {},
   "outputs": [],
   "source": []
  },
  {
   "cell_type": "code",
   "execution_count": null,
   "id": "612ef452",
   "metadata": {},
   "outputs": [],
   "source": [
    "rounded_series.apply(lambda x: x == rounded_series.iloc[0]).all()"
   ]
  },
  {
   "cell_type": "code",
   "execution_count": null,
   "id": "222720b6",
   "metadata": {},
   "outputs": [],
   "source": [
    "np.round(selection[\"SC\"][0:99], decimals = 0)"
   ]
  },
  {
   "cell_type": "code",
   "execution_count": null,
   "id": "1ec303d1",
   "metadata": {},
   "outputs": [],
   "source": []
  }
 ],
 "metadata": {
  "kernelspec": {
   "display_name": "Python 3 (ipykernel)",
   "language": "python",
   "name": "python3"
  },
  "language_info": {
   "codemirror_mode": {
    "name": "ipython",
    "version": 3
   },
   "file_extension": ".py",
   "mimetype": "text/x-python",
   "name": "python",
   "nbconvert_exporter": "python",
   "pygments_lexer": "ipython3",
   "version": "3.11.3"
  }
 },
 "nbformat": 4,
 "nbformat_minor": 5
}
