{
 "cells": [
  {
   "cell_type": "markdown",
   "id": "d6600b5b",
   "metadata": {},
   "source": [
    "# Svensson (1994)"
   ]
  },
  {
   "cell_type": "markdown",
   "id": "2ea11aa8",
   "metadata": {},
   "source": [
    "\n",
    "\n",
    "$$ r(t) = \\beta_1 + \\beta_2\\frac{1-e^{-\\lambda_1 t}}{\\lambda_1 t} \n",
    "        + \\beta_3 \\left(\\frac{1-e^{-\\lambda_1 t}}{\\lambda_1 t}-e^{-\\lambda_1 t}\\right)\n",
    "        + \\beta_4 \\left(\\frac{1-e^{-\\lambda_2 t}}{\\lambda_2 t}-e^{-\\lambda_2 t}\\right)$$"
   ]
  },
  {
   "cell_type": "markdown",
   "id": "f931bc69",
   "metadata": {},
   "source": [
    "### Importing the data"
   ]
  },
  {
   "cell_type": "code",
   "execution_count": 13,
   "id": "2ed72081",
   "metadata": {},
   "outputs": [],
   "source": [
    "from scipy.optimize import fmin\n",
    "from datetime import datetime, timedelta\n",
    "import pandas as pd\n",
    "import numpy as np\n",
    "import math\n",
    "import datetime as dt\n",
    "import matplotlib.pyplot as plt\n",
    "from bizdays import Calendar\n",
    "import os\n",
    "\n",
    "path = r\"C:\\Users\\Alysson\\Documents\\GitHub\\Monetary-Shocks\\Brasil\\ETTJ\"\n",
    "\n",
    "df = pd.read_excel(os.path.join(path, \"Titulos.xlsx\"))\n",
    "parameters = pd.read_excel(os.path.join(path, \"Parametros.xlsx\"))\n",
    "selic = pd.read_excel(os.path.join(path, \"SELIC.xlsx\"))\n",
    "ref_date_str = \"2023-07-26\""
   ]
  },
  {
   "cell_type": "markdown",
   "id": "e4807a13",
   "metadata": {},
   "source": [
    "#### Maturity and Coupon Calculation\n"
   ]
  },
  {
   "cell_type": "code",
   "execution_count": 14,
   "id": "58800f79",
   "metadata": {},
   "outputs": [],
   "source": [
    "### Selic treatments\n",
    "cal = Calendar.load(\"ANBIMA\")\n",
    "parameters.set_index(\"Data referência\", inplace=True)"
   ]
  },
  {
   "cell_type": "code",
   "execution_count": null,
   "id": "4fea64fb",
   "metadata": {},
   "outputs": [],
   "source": [
    "### Selic treatments\n",
    "cal = Calendar.load(\"ANBIMA\")\n",
    "parameters.set_index(\"Data referência\", inplace=True)\n",
    "\n",
    "selic.rename(columns={'Data': 'DATA_REFERENCIA'}, inplace=True)\n",
    "selic.rename(columns={'CDI': 'EXPECTATIVA'}, inplace=True)\n",
    "selic[\"CODIGO\"]=\"SELIC\"\n",
    "selic[\"DATA_VENCIMENTO\"]=cal.offset(selic[\"DATA_REFERENCIA\"],1)\n",
    "selic[\"PU\"]=1000/((1+selic['EXPECTATIVA'])**(1/252))\n",
    "selic = selic[[\"CODIGO\",'DATA_REFERENCIA',\"DATA_VENCIMENTO\",'EXPECTATIVA',\"PU\"]]\n",
    "df = pd.concat([df, selic], ignore_index=True)"
   ]
  },
  {
   "cell_type": "code",
   "execution_count": 15,
   "id": "9bbc5874",
   "metadata": {},
   "outputs": [],
   "source": [
    "### Maturity Calculation\n",
    "\n",
    "df[\"Maturity\"] = np.array(cal.bizdays(df[\"DATA_REFERENCIA\"], df[\"DATA_VENCIMENTO\"]))/252\n",
    "\n",
    "### Coupon Calculation\n",
    "\n",
    "df['Coupon'] = np.where(df['CODIGO'] == 'NTN-F', 10, 0)\n",
    "\n",
    "# Function to generate the number of coupon days between two dates\n",
    "def calculate_coupon_days(reference_date, maturity_date):\n",
    "    first_january = pd.Timestamp(reference_date).replace(month=1, day=1)\n",
    "    first_july = pd.Timestamp(reference_date).replace(month=7, day=1)\n",
    "    \n",
    "    coupon_dates = [first_january, first_july]\n",
    "    \n",
    "    next_january = first_january + pd.DateOffset(years=1)\n",
    "    next_july = first_july + pd.DateOffset(years=1)\n",
    "    \n",
    "    while next_january <= maturity_date:\n",
    "        coupon_dates.append(next_january)\n",
    "        coupon_dates.append(next_july)\n",
    "        next_january = next_january + pd.DateOffset(years=1)\n",
    "        next_july = next_july + pd.DateOffset(years=1)\n",
    "    \n",
    "    coupon_days = [cal.bizdays(reference_date, coupon_date) for coupon_date in coupon_dates if coupon_date >= reference_date and coupon_date <= maturity_date]\n",
    "    return coupon_days\n",
    "\n",
    "# Função para calcular os cupons\n",
    "def calculate_coupons(row):\n",
    "    if row[\"CODIGO\"] != \"NTN-F\":\n",
    "        return np.zeros(0, dtype=int)  # Retorna um array vazio se não for \"NTN-F\"\n",
    "    else:\n",
    "        return np.array(calculate_coupon_days(row['DATA_REFERENCIA'], row['DATA_VENCIMENTO']), dtype=int)\n",
    "\n",
    "# Duration\n",
    "\n",
    "df[\"Coupons_days\"] = df.apply(calculate_coupons, axis=1)\n",
    "\n",
    "def sum_duration(row):\n",
    "    return np.sum(row)\n",
    "\n",
    "df['Duration'] = 1000 * ((1 + 0.1) ** (1 / 2) - 1) / ((1 + df['EXPECTATIVA'] / 100) ** (df['Coupons_days'] / 252)) * (df['Coupons_days'] / 252)\n",
    "payment = 1000 / ((1 + df['EXPECTATIVA'] / 100) ** df['Maturity']) * df['Maturity']\n",
    "df['Duration'] = (df['Duration'].apply(sum_duration) + payment) / df['PU']\n",
    "\n",
    "df.set_index(\"DATA_REFERENCIA\", inplace=True)"
   ]
  },
  {
   "cell_type": "markdown",
   "id": "b01e4b95",
   "metadata": {},
   "source": [
    "\n",
    "### Generating individuals"
   ]
  },
  {
   "cell_type": "code",
   "execution_count": 16,
   "id": "15c92863",
   "metadata": {},
   "outputs": [],
   "source": [
    "N =1200             ### Number of individuals \n",
    "p = int(2/3*N)      ### Proportion of individuals generated by method 1\n",
    "var = 0.7           ### variance normal distribution\n",
    "\n",
    "### 1 - Initial Values of the results of the estimation of the previous day\n",
    "\n",
    "\n",
    "ref_date = datetime.strptime(ref_date_str, \"%Y-%m-%d\")\n",
    "previous_date = cal.offset(ref_date_str,-1)\n",
    "previous_parameters = parameters.loc[str(previous_date)][1:]\n",
    "beta_star_1 = np.array([previous_parameters.replace(previous_parameters[1],previous_parameters[0])])\n",
    "e_previous = beta_star_1.T*np.random.normal(0, var, size=(6, p))\n",
    "beta_previous = beta_star_1.T + e_previous\n",
    "\n",
    "### 2 - Approximation that takes into account the observed yield to maturity (ytm)\n",
    "\n",
    "### ajustar variancia b3e b4\n",
    "data_estimada = df.loc[ref_date_str]\n",
    "data_estimada=data_estimada.sort_values(\"Maturity\")\n",
    "diferencas_absolutas = (data_estimada['Duration'] - 1).abs()\n",
    "b1 = data_estimada.iloc[np.argmin(diferencas_absolutas)][\"EXPECTATIVA\"]/100\n",
    "b2 =  data_estimada.iloc[np.argmin(diferencas_absolutas)][\"EXPECTATIVA\"]/100 - data_estimada[\"EXPECTATIVA\"][-1]/100\n",
    "b3 = 0\n",
    "b4 = 0\n",
    "#lbda1 = previous_parameters[4]\n",
    "#lbda2 = previous_parameters[5]\n",
    "lbda1 = (data_estimada[\"Duration\"][-1]-data_estimada[\"Duration\"][0])/2\n",
    "lbda2 = lbda1\n",
    "beta_star_2 = np.array([b1, b2, b3 , b4, lbda1, lbda2])[:, np.newaxis]\n",
    "e_approx = beta_star_2*np.random.normal(0, var, size=(6, N-p))\n",
    "beta_approx = beta_star_2 + e_approx ## ajustar colunas\n",
    "\n",
    "### Adding constraints to the parameters\n",
    "\n",
    "def update (betas,beta_star):\n",
    "    updated_value = []\n",
    "    for index, parameter in enumerate(betas):\n",
    "        if parameter[0]<0:\n",
    "            betas[index][0] = beta_star[0]+ beta_star[0]*np.random.normal(0, var)\n",
    "            updated_value.append(betas[index][0]<0)\n",
    "        if (parameter[0]+parameter[1])<0:\n",
    "            betas[index][1] = beta_star[1]+ beta_star[1]*np.random.normal(0, var)\n",
    "            updated_value.append((betas[index][0]+betas[index][1])<0)\n",
    "        if parameter[4]<0 or parameter[4]>10:\n",
    "            betas[index][4] = beta_star[4]+ beta_star[4]*np.random.normal(0, var)\n",
    "            updated_value.append(betas[index][4]<0)\n",
    "        if parameter[5]<0 or parameter[5]>10:\n",
    "            betas[index][5] = beta_star[5]+ beta_star[5]*np.random.normal(0, var)\n",
    "            updated_value.append(betas[index][5]<0)\n",
    "    if sum(updated_value) != 0:\n",
    "        update(betas,beta_star)\n",
    "        \n",
    "    return(betas)\n",
    "\n",
    "update(beta_previous.T,beta_star_1.T)\n",
    "update(beta_approx,beta_star_2)\n",
    "\n",
    "individuals = np.concatenate((beta_previous.T, beta_approx.T), axis=0)"
   ]
  },
  {
   "cell_type": "code",
   "execution_count": 12,
   "id": "25ecea81",
   "metadata": {},
   "outputs": [
    {
     "data": {
      "text/plain": [
       "(800, 6)"
      ]
     },
     "execution_count": 12,
     "metadata": {},
     "output_type": "execute_result"
    }
   ],
   "source": [
    "beta_previous.T.shape"
   ]
  },
  {
   "cell_type": "markdown",
   "id": "f0f27240",
   "metadata": {},
   "source": [
    "### Selection"
   ]
  },
  {
   "cell_type": "code",
   "execution_count": 17,
   "id": "1913f806",
   "metadata": {},
   "outputs": [
    {
     "name": "stdout",
     "output_type": "stream",
     "text": [
      "0\n",
      "1\n"
     ]
    },
    {
     "ename": "KeyboardInterrupt",
     "evalue": "",
     "output_type": "error",
     "traceback": [
      "\u001b[1;31m---------------------------------------------------------------------------\u001b[0m",
      "\u001b[1;31mKeyboardInterrupt\u001b[0m                         Traceback (most recent call last)",
      "Cell \u001b[1;32mIn[17], line 28\u001b[0m\n\u001b[0;32m     25\u001b[0m values \u001b[38;5;241m=\u001b[39m []\n\u001b[0;32m     27\u001b[0m \u001b[38;5;28;01mfor\u001b[39;00m row \u001b[38;5;129;01min\u001b[39;00m individuals:    \n\u001b[1;32m---> 28\u001b[0m     val \u001b[38;5;241m=\u001b[39m minimization(row)\n\u001b[0;32m     29\u001b[0m     values\u001b[38;5;241m.\u001b[39mappend((\u001b[38;5;28mround\u001b[39m(val,\u001b[38;5;241m1\u001b[39m), row))\n\u001b[0;32m     31\u001b[0m sol \u001b[38;5;241m=\u001b[39m pd\u001b[38;5;241m.\u001b[39mDataFrame(values, columns\u001b[38;5;241m=\u001b[39m[\u001b[38;5;124m'\u001b[39m\u001b[38;5;124mSC\u001b[39m\u001b[38;5;124m'\u001b[39m, \u001b[38;5;124m\"\u001b[39m\u001b[38;5;124mParameters\u001b[39m\u001b[38;5;124m\"\u001b[39m])\n",
      "Cell \u001b[1;32mIn[17], line 14\u001b[0m, in \u001b[0;36mminimization\u001b[1;34m(c)\u001b[0m\n\u001b[0;32m     12\u001b[0m \u001b[38;5;28;01mdef\u001b[39;00m \u001b[38;5;21mminimization\u001b[39m(c):\n\u001b[0;32m     13\u001b[0m     nss \u001b[38;5;241m=\u001b[39m (c[\u001b[38;5;241m0\u001b[39m]) \u001b[38;5;241m+\u001b[39m (c[\u001b[38;5;241m1\u001b[39m] \u001b[38;5;241m*\u001b[39m ((\u001b[38;5;241m1\u001b[39m \u001b[38;5;241m-\u001b[39m np\u001b[38;5;241m.\u001b[39mexp(\u001b[38;5;241m-\u001b[39mmty \u001b[38;5;241m*\u001b[39m c[\u001b[38;5;241m4\u001b[39m])) \u001b[38;5;241m/\u001b[39m (mty \u001b[38;5;241m*\u001b[39m c[\u001b[38;5;241m4\u001b[39m]))) \u001b[38;5;241m+\u001b[39m (c[\u001b[38;5;241m2\u001b[39m] \u001b[38;5;241m*\u001b[39m ((((\u001b[38;5;241m1\u001b[39m \u001b[38;5;241m-\u001b[39m np\u001b[38;5;241m.\u001b[39mexp(\u001b[38;5;241m-\u001b[39mmty \u001b[38;5;241m*\u001b[39m c[\u001b[38;5;241m4\u001b[39m])) \u001b[38;5;241m/\u001b[39m (mty \u001b[38;5;241m*\u001b[39m c[\u001b[38;5;241m4\u001b[39m]))) \u001b[38;5;241m-\u001b[39m (np\u001b[38;5;241m.\u001b[39mexp(\u001b[38;5;241m-\u001b[39mmty \u001b[38;5;241m*\u001b[39m c[\u001b[38;5;241m4\u001b[39m])))) \u001b[38;5;241m+\u001b[39m (c[\u001b[38;5;241m3\u001b[39m] \u001b[38;5;241m*\u001b[39m ((((\u001b[38;5;241m1\u001b[39m \u001b[38;5;241m-\u001b[39m np\u001b[38;5;241m.\u001b[39mexp(\u001b[38;5;241m-\u001b[39mmty \u001b[38;5;241m*\u001b[39m c[\u001b[38;5;241m5\u001b[39m])) \u001b[38;5;241m/\u001b[39m (mty \u001b[38;5;241m*\u001b[39m c[\u001b[38;5;241m5\u001b[39m]))) \u001b[38;5;241m-\u001b[39m (np\u001b[38;5;241m.\u001b[39mexp(\u001b[38;5;241m-\u001b[39mmty \u001b[38;5;241m*\u001b[39m c[\u001b[38;5;241m5\u001b[39m]))))    \n\u001b[1;32m---> 14\u001b[0m     df[\u001b[38;5;124m\"\u001b[39m\u001b[38;5;124mCalculated_Coupon\u001b[39m\u001b[38;5;124m\"\u001b[39m] \u001b[38;5;241m=\u001b[39m \u001b[38;5;241m1000\u001b[39m \u001b[38;5;241m*\u001b[39m ((\u001b[38;5;241m1\u001b[39m \u001b[38;5;241m+\u001b[39m \u001b[38;5;241m0.1\u001b[39m) \u001b[38;5;241m*\u001b[39m\u001b[38;5;241m*\u001b[39m (\u001b[38;5;241m1\u001b[39m \u001b[38;5;241m/\u001b[39m \u001b[38;5;241m2\u001b[39m) \u001b[38;5;241m-\u001b[39m \u001b[38;5;241m1\u001b[39m) \u001b[38;5;241m/\u001b[39m (\u001b[38;5;241m1\u001b[39m \u001b[38;5;241m+\u001b[39m nss) \u001b[38;5;241m*\u001b[39m\u001b[38;5;241m*\u001b[39m (cp_days\u001b[38;5;241m/\u001b[39m \u001b[38;5;241m252\u001b[39m)\n\u001b[0;32m     15\u001b[0m     df[\u001b[38;5;124m\"\u001b[39m\u001b[38;5;124mCalculated_Coupon\u001b[39m\u001b[38;5;124m\"\u001b[39m] \u001b[38;5;241m=\u001b[39m df[\u001b[38;5;124m\"\u001b[39m\u001b[38;5;124mCalculated_Coupon\u001b[39m\u001b[38;5;124m\"\u001b[39m]\u001b[38;5;241m.\u001b[39mapply(sum_duration)\n\u001b[0;32m     16\u001b[0m     Calculated_price \u001b[38;5;241m=\u001b[39m \u001b[38;5;241m1000\u001b[39m \u001b[38;5;241m/\u001b[39m (\u001b[38;5;241m1\u001b[39m \u001b[38;5;241m+\u001b[39m nss) \u001b[38;5;241m*\u001b[39m\u001b[38;5;241m*\u001b[39m mty \u001b[38;5;241m+\u001b[39m df[\u001b[38;5;124m\"\u001b[39m\u001b[38;5;124mCalculated_Coupon\u001b[39m\u001b[38;5;124m\"\u001b[39m]\n",
      "File \u001b[1;32m~\\anaconda3\\Lib\\site-packages\\pandas\\core\\ops\\common.py:72\u001b[0m, in \u001b[0;36m_unpack_zerodim_and_defer.<locals>.new_method\u001b[1;34m(self, other)\u001b[0m\n\u001b[0;32m     68\u001b[0m             \u001b[38;5;28;01mreturn\u001b[39;00m \u001b[38;5;28mNotImplemented\u001b[39m\n\u001b[0;32m     70\u001b[0m other \u001b[38;5;241m=\u001b[39m item_from_zerodim(other)\n\u001b[1;32m---> 72\u001b[0m \u001b[38;5;28;01mreturn\u001b[39;00m method(\u001b[38;5;28mself\u001b[39m, other)\n",
      "File \u001b[1;32m~\\anaconda3\\Lib\\site-packages\\pandas\\core\\arraylike.py:126\u001b[0m, in \u001b[0;36mOpsMixin.__truediv__\u001b[1;34m(self, other)\u001b[0m\n\u001b[0;32m    124\u001b[0m \u001b[38;5;129m@unpack_zerodim_and_defer\u001b[39m(\u001b[38;5;124m\"\u001b[39m\u001b[38;5;124m__truediv__\u001b[39m\u001b[38;5;124m\"\u001b[39m)\n\u001b[0;32m    125\u001b[0m \u001b[38;5;28;01mdef\u001b[39;00m \u001b[38;5;21m__truediv__\u001b[39m(\u001b[38;5;28mself\u001b[39m, other):\n\u001b[1;32m--> 126\u001b[0m     \u001b[38;5;28;01mreturn\u001b[39;00m \u001b[38;5;28mself\u001b[39m\u001b[38;5;241m.\u001b[39m_arith_method(other, operator\u001b[38;5;241m.\u001b[39mtruediv)\n",
      "File \u001b[1;32m~\\anaconda3\\Lib\\site-packages\\pandas\\core\\series.py:6259\u001b[0m, in \u001b[0;36mSeries._arith_method\u001b[1;34m(self, other, op)\u001b[0m\n\u001b[0;32m   6257\u001b[0m \u001b[38;5;28;01mdef\u001b[39;00m \u001b[38;5;21m_arith_method\u001b[39m(\u001b[38;5;28mself\u001b[39m, other, op):\n\u001b[0;32m   6258\u001b[0m     \u001b[38;5;28mself\u001b[39m, other \u001b[38;5;241m=\u001b[39m ops\u001b[38;5;241m.\u001b[39malign_method_SERIES(\u001b[38;5;28mself\u001b[39m, other)\n\u001b[1;32m-> 6259\u001b[0m     \u001b[38;5;28;01mreturn\u001b[39;00m base\u001b[38;5;241m.\u001b[39mIndexOpsMixin\u001b[38;5;241m.\u001b[39m_arith_method(\u001b[38;5;28mself\u001b[39m, other, op)\n",
      "File \u001b[1;32m~\\anaconda3\\Lib\\site-packages\\pandas\\core\\base.py:1325\u001b[0m, in \u001b[0;36mIndexOpsMixin._arith_method\u001b[1;34m(self, other, op)\u001b[0m\n\u001b[0;32m   1322\u001b[0m rvalues \u001b[38;5;241m=\u001b[39m ensure_wrapped_if_datetimelike(rvalues)\n\u001b[0;32m   1324\u001b[0m \u001b[38;5;28;01mwith\u001b[39;00m np\u001b[38;5;241m.\u001b[39merrstate(\u001b[38;5;28mall\u001b[39m\u001b[38;5;241m=\u001b[39m\u001b[38;5;124m\"\u001b[39m\u001b[38;5;124mignore\u001b[39m\u001b[38;5;124m\"\u001b[39m):\n\u001b[1;32m-> 1325\u001b[0m     result \u001b[38;5;241m=\u001b[39m ops\u001b[38;5;241m.\u001b[39marithmetic_op(lvalues, rvalues, op)\n\u001b[0;32m   1327\u001b[0m \u001b[38;5;28;01mreturn\u001b[39;00m \u001b[38;5;28mself\u001b[39m\u001b[38;5;241m.\u001b[39m_construct_result(result, name\u001b[38;5;241m=\u001b[39mres_name)\n",
      "File \u001b[1;32m~\\anaconda3\\Lib\\site-packages\\pandas\\core\\ops\\array_ops.py:226\u001b[0m, in \u001b[0;36marithmetic_op\u001b[1;34m(left, right, op)\u001b[0m\n\u001b[0;32m    222\u001b[0m     _bool_arith_check(op, left, right)\n\u001b[0;32m    224\u001b[0m     \u001b[38;5;66;03m# error: Argument 1 to \"_na_arithmetic_op\" has incompatible type\u001b[39;00m\n\u001b[0;32m    225\u001b[0m     \u001b[38;5;66;03m# \"Union[ExtensionArray, ndarray[Any, Any]]\"; expected \"ndarray[Any, Any]\"\u001b[39;00m\n\u001b[1;32m--> 226\u001b[0m     res_values \u001b[38;5;241m=\u001b[39m _na_arithmetic_op(left, right, op)  \u001b[38;5;66;03m# type: ignore[arg-type]\u001b[39;00m\n\u001b[0;32m    228\u001b[0m \u001b[38;5;28;01mreturn\u001b[39;00m res_values\n",
      "File \u001b[1;32m~\\anaconda3\\Lib\\site-packages\\pandas\\core\\ops\\array_ops.py:165\u001b[0m, in \u001b[0;36m_na_arithmetic_op\u001b[1;34m(left, right, op, is_cmp)\u001b[0m\n\u001b[0;32m    162\u001b[0m     func \u001b[38;5;241m=\u001b[39m partial(expressions\u001b[38;5;241m.\u001b[39mevaluate, op)\n\u001b[0;32m    164\u001b[0m \u001b[38;5;28;01mtry\u001b[39;00m:\n\u001b[1;32m--> 165\u001b[0m     result \u001b[38;5;241m=\u001b[39m func(left, right)\n\u001b[0;32m    166\u001b[0m \u001b[38;5;28;01mexcept\u001b[39;00m \u001b[38;5;167;01mTypeError\u001b[39;00m:\n\u001b[0;32m    167\u001b[0m     \u001b[38;5;28;01mif\u001b[39;00m \u001b[38;5;129;01mnot\u001b[39;00m is_cmp \u001b[38;5;129;01mand\u001b[39;00m (is_object_dtype(left\u001b[38;5;241m.\u001b[39mdtype) \u001b[38;5;129;01mor\u001b[39;00m is_object_dtype(right)):\n\u001b[0;32m    168\u001b[0m         \u001b[38;5;66;03m# For object dtype, fallback to a masked operation (only operating\u001b[39;00m\n\u001b[0;32m    169\u001b[0m         \u001b[38;5;66;03m#  on the non-missing values)\u001b[39;00m\n\u001b[0;32m    170\u001b[0m         \u001b[38;5;66;03m# Don't do this for comparisons, as that will handle complex numbers\u001b[39;00m\n\u001b[0;32m    171\u001b[0m         \u001b[38;5;66;03m#  incorrectly, see GH#32047\u001b[39;00m\n",
      "File \u001b[1;32m~\\anaconda3\\Lib\\site-packages\\pandas\\core\\computation\\expressions.py:241\u001b[0m, in \u001b[0;36mevaluate\u001b[1;34m(op, a, b, use_numexpr)\u001b[0m\n\u001b[0;32m    238\u001b[0m \u001b[38;5;28;01mif\u001b[39;00m op_str \u001b[38;5;129;01mis\u001b[39;00m \u001b[38;5;129;01mnot\u001b[39;00m \u001b[38;5;28;01mNone\u001b[39;00m:\n\u001b[0;32m    239\u001b[0m     \u001b[38;5;28;01mif\u001b[39;00m use_numexpr:\n\u001b[0;32m    240\u001b[0m         \u001b[38;5;66;03m# error: \"None\" not callable\u001b[39;00m\n\u001b[1;32m--> 241\u001b[0m         \u001b[38;5;28;01mreturn\u001b[39;00m _evaluate(op, op_str, a, b)  \u001b[38;5;66;03m# type: ignore[misc]\u001b[39;00m\n\u001b[0;32m    242\u001b[0m \u001b[38;5;28;01mreturn\u001b[39;00m _evaluate_standard(op, op_str, a, b)\n",
      "File \u001b[1;32m~\\anaconda3\\Lib\\site-packages\\pandas\\core\\computation\\expressions.py:129\u001b[0m, in \u001b[0;36m_evaluate_numexpr\u001b[1;34m(op, op_str, a, b)\u001b[0m\n\u001b[0;32m    126\u001b[0m     _store_test_result(result \u001b[38;5;129;01mis\u001b[39;00m \u001b[38;5;129;01mnot\u001b[39;00m \u001b[38;5;28;01mNone\u001b[39;00m)\n\u001b[0;32m    128\u001b[0m \u001b[38;5;28;01mif\u001b[39;00m result \u001b[38;5;129;01mis\u001b[39;00m \u001b[38;5;28;01mNone\u001b[39;00m:\n\u001b[1;32m--> 129\u001b[0m     result \u001b[38;5;241m=\u001b[39m _evaluate_standard(op, op_str, a, b)\n\u001b[0;32m    131\u001b[0m \u001b[38;5;28;01mreturn\u001b[39;00m result\n",
      "File \u001b[1;32m~\\anaconda3\\Lib\\site-packages\\pandas\\core\\computation\\expressions.py:70\u001b[0m, in \u001b[0;36m_evaluate_standard\u001b[1;34m(op, op_str, a, b)\u001b[0m\n\u001b[0;32m     68\u001b[0m \u001b[38;5;28;01mif\u001b[39;00m _TEST_MODE:\n\u001b[0;32m     69\u001b[0m     _store_test_result(\u001b[38;5;28;01mFalse\u001b[39;00m)\n\u001b[1;32m---> 70\u001b[0m \u001b[38;5;28;01mreturn\u001b[39;00m op(a, b)\n",
      "\u001b[1;31mKeyboardInterrupt\u001b[0m: "
     ]
    }
   ],
   "source": [
    "df = data_estimada\n",
    "alpha = 6\n",
    "var = 0.7\n",
    "pi = 0.35\n",
    "### 40% of the individuals survive\n",
    "s = int(0.4 * N)\n",
    "mty = df['Maturity']\n",
    "cp_days = df[\"Coupons_days\"]\n",
    "price = df['PU']\n",
    "duration = df[\"Duration\"]\n",
    "\n",
    "def minimization(c):\n",
    "    nss = (c[0]) + (c[1] * ((1 - np.exp(-mty * c[4])) / (mty * c[4]))) + (c[2] * ((((1 - np.exp(-mty * c[4])) / (mty * c[4]))) - (np.exp(-mty * c[4])))) + (c[3] * ((((1 - np.exp(-mty * c[5])) / (mty * c[5]))) - (np.exp(-mty * c[5]))))    \n",
    "    df[\"Calculated_Coupon\"] = 1000 * ((1 + 0.1) ** (1 / 2) - 1) / (1 + nss) ** (cp_days/ 252)\n",
    "    df[\"Calculated_Coupon\"] = df[\"Calculated_Coupon\"].apply(sum_duration)\n",
    "    Calculated_price = 1000 / (1 + nss) ** mty + df[\"Calculated_Coupon\"]\n",
    "    df[\"Residual\"] = ((price - Calculated_price) ** 2) * (1 / duration)\n",
    "    \n",
    "    val = np.sum(df['Residual'])\n",
    "    return val\n",
    "\n",
    "for interation in range(100):\n",
    "    print(interation)\n",
    "    \n",
    "    values = []\n",
    "    \n",
    "    for row in individuals:    \n",
    "        val = minimization(row)\n",
    "        values.append((round(val,1), row))\n",
    "        \n",
    "    sol = pd.DataFrame(values, columns=['SC', \"Parameters\"])\n",
    "    \n",
    "    percentile_value = sol['SC'].quantile(0.4)\n",
    "    \n",
    "    selection = sol[sol['SC'] <= percentile_value]\n",
    "    new_individuals = []\n",
    "    \n",
    "    if interation > 1:\n",
    "        var = 0.7*1.02\n",
    "        \n",
    "    ### Cross-Over\n",
    "    \n",
    "    psi = np.random.uniform(0, 1,N)\n",
    "    selected_rows = selection.iloc[(np.random.beta(1, alpha, N) * s)]\n",
    "    selected_rows.reset_index(drop=True, inplace=True)\n",
    "    theta_r = selected_rows[\"Parameters\"]\n",
    "    theta_s = selected_rows[\"Parameters\"]\n",
    "         \n",
    "    next_gen = psi * theta_r + (1 - psi) * theta_s\n",
    "       \n",
    "        \n",
    "    ### Mutation\n",
    "    e = np.random.choice([0, 1], size=(6, N), p=[1 - pi, pi])*np.random.normal(0, var, size=(6, N))\n",
    "    next_gen_list = next_gen.tolist()\n",
    "    next_gen_array = np.array(next_gen_list)\n",
    "    update(next_gen_array,beta_star_1.T)\n",
    "    new_individuals = next_gen_array * e.T+next_gen_array\n",
    "         \n",
    "    individuals = new_individuals\n",
    "    \n",
    "selection = selection.sort_values(by=\"SC\")      \n",
    "selection.head()\n",
    "\n"
   ]
  },
  {
   "cell_type": "code",
   "execution_count": 286,
   "id": "48d9d465",
   "metadata": {},
   "outputs": [],
   "source": [
    "selection = selection.sort_values(by=\"SC\")"
   ]
  },
  {
   "cell_type": "code",
   "execution_count": 287,
   "id": "c535b41d",
   "metadata": {},
   "outputs": [
    {
     "name": "stdout",
     "output_type": "stream",
     "text": [
      "[ 0.104  0.051 -0.     0.     8.725  0.112]\n",
      "Beta 1      0.114358\n",
      "Beta 2      0.018716\n",
      "Beta 3      0.067975\n",
      "Beta 4     -0.096128\n",
      "Lambda 1    2.700227\n",
      "Lambda 2    1.229581\n",
      "Name: 2023-07-26 00:00:00, dtype: object\n"
     ]
    }
   ],
   "source": [
    "dia_3 = selection.iloc[0][\"Parameters\"]\n",
    "dia_anbima = parameters.loc[ref_date][1:]\n",
    "print(dia_3.round(3))\n",
    "print(dia_anbima)\n"
   ]
  },
  {
   "cell_type": "code",
   "execution_count": 278,
   "id": "1fdd0c2b",
   "metadata": {},
   "outputs": [
    {
     "data": {
      "text/plain": [
       "Text(0.5, 1.0, '2023-07-26 00:00:00')"
      ]
     },
     "execution_count": 278,
     "metadata": {},
     "output_type": "execute_result"
    },
    {
     "data": {
      "image/png": "[encoded data removed]",
      "text/plain": [
       "<Figure size 640x480 with 1 Axes>"
      ]
     },
     "metadata": {},
     "output_type": "display_data"
    }
   ],
   "source": [
    "rounded_series = selection[\"Parameters\"].apply(lambda lst: [round(x, 1) for x in lst])\n",
    "rounded_series[0:99]\n",
    "#plt.plot(dia_2)\n",
    "plt.plot(dia_3)\n",
    "plt.plot(dia_anbima)\n",
    "plt.title(f'{ref_date}')"
   ]
  },
  {
   "cell_type": "code",
   "execution_count": 275,
   "id": "b545a2ca",
   "metadata": {},
   "outputs": [
    {
     "data": {
      "text/plain": [
       "3.02825869917288"
      ]
     },
     "execution_count": 275,
     "metadata": {},
     "output_type": "execute_result"
    }
   ],
   "source": [
    "lbda1"
   ]
  },
  {
   "cell_type": "code",
   "execution_count": null,
   "id": "9f08e6bb",
   "metadata": {},
   "outputs": [],
   "source": []
  }
 ],
 "metadata": {
  "kernelspec": {
   "display_name": "Python 3 (ipykernel)",
   "language": "python",
   "name": "python3"
  },
  "language_info": {
   "codemirror_mode": {
    "name": "ipython",
    "version": 3
   },
   "file_extension": ".py",
   "mimetype": "text/x-python",
   "name": "python",
   "nbconvert_exporter": "python",
   "pygments_lexer": "ipython3",
   "version": "3.11.3"
  }
 },
 "nbformat": 4,
 "nbformat_minor": 5
}
