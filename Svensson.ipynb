{
 "cells": [
  {
   "cell_type": "markdown",
   "id": "d6600b5b",
   "metadata": {},
   "source": [
    "# Svensson (1994)"
   ]
  },
  {
   "cell_type": "markdown",
   "id": "2ea11aa8",
   "metadata": {},
   "source": [
    "\n",
    "\n",
    "$$ r(t) = \\beta_1 + \\beta_2\\frac{1-e^{-\\lambda_1 t}}{\\lambda_1 t} \n",
    "        + \\beta_3 \\left(\\frac{1-e^{-\\lambda_1 t}}{\\lambda_1 t}-e^{-\\lambda_1 t}\\right)\n",
    "        + \\beta_4 \\left(\\frac{1-e^{-\\lambda_2 t}}{\\lambda_2 t}-e^{-\\lambda_2 t}\\right)$$"
   ]
  },
  {
   "cell_type": "markdown",
   "id": "f931bc69",
   "metadata": {},
   "source": [
    "### Importing the data"
   ]
  },
  {
   "cell_type": "code",
   "execution_count": 695,
   "id": "2ed72081",
   "metadata": {},
   "outputs": [],
   "source": [
    "from scipy.optimize import fmin\n",
    "from datetime import datetime, timedelta\n",
    "import pandas as pd\n",
    "import numpy as np\n",
    "import datetime as dt\n",
    "from workadays import workdays as wd\n",
    "\n",
    "path = r\"C:\\Users\\Alysson\\Documents\\GitHub\\Monetary-Shocks\\Brasil\\ETTJ\\Base_LTN.xlsx\"\n",
    "path2 = r\"C:\\Users\\Alysson\\Documents\\GitHub\\Monetary-Shocks\\Brasil\\ETTJ\\Parametros.xlsx\"\n",
    "df = pd.read_excel(path)\n",
    "parameters = pd.read_excel(path2)"
   ]
  },
  {
   "cell_type": "code",
   "execution_count": 696,
   "id": "d024534e",
   "metadata": {},
   "outputs": [],
   "source": [
    "parameters.set_index(\"Data referência\", inplace=True)\n",
    "df[\"Maturity\"] = df.apply(lambda row: wd.networkdays(row[\"DATA_REFERENCIA\"], row[\"DATA_VENCIMENTO\"]), axis=1)/252\n",
    "df.set_index(\"DATA_REFERENCIA\", inplace=True)"
   ]
  },
  {
   "cell_type": "code",
   "execution_count": 697,
   "id": "7cc69905",
   "metadata": {},
   "outputs": [
    {
     "data": {
      "text/html": [
       "<div>\n",
       "<style scoped>\n",
       "    .dataframe tbody tr th:only-of-type {\n",
       "        vertical-align: middle;\n",
       "    }\n",
       "\n",
       "    .dataframe tbody tr th {\n",
       "        vertical-align: top;\n",
       "    }\n",
       "\n",
       "    .dataframe thead th {\n",
       "        text-align: right;\n",
       "    }\n",
       "</style>\n",
       "<table border=\"1\" class=\"dataframe\">\n",
       "  <thead>\n",
       "    <tr style=\"text-align: right;\">\n",
       "      <th></th>\n",
       "      <th>CODIGO</th>\n",
       "      <th>DATA_VENCIMENTO</th>\n",
       "      <th>EXPECTATIVA</th>\n",
       "      <th>PU</th>\n",
       "      <th>Maturity</th>\n",
       "    </tr>\n",
       "    <tr>\n",
       "      <th>DATA_REFERENCIA</th>\n",
       "      <th></th>\n",
       "      <th></th>\n",
       "      <th></th>\n",
       "      <th></th>\n",
       "      <th></th>\n",
       "    </tr>\n",
       "  </thead>\n",
       "  <tbody>\n",
       "    <tr>\n",
       "      <th>2023-07-27</th>\n",
       "      <td>LTN</td>\n",
       "      <td>2023-10-01</td>\n",
       "      <td>13.1755</td>\n",
       "      <td>977.660457</td>\n",
       "      <td>0.178571</td>\n",
       "    </tr>\n",
       "    <tr>\n",
       "      <th>2023-07-27</th>\n",
       "      <td>LTN</td>\n",
       "      <td>2024-01-01</td>\n",
       "      <td>12.6150</td>\n",
       "      <td>950.806347</td>\n",
       "      <td>0.420635</td>\n",
       "    </tr>\n",
       "    <tr>\n",
       "      <th>2023-07-27</th>\n",
       "      <td>LTN</td>\n",
       "      <td>2024-04-01</td>\n",
       "      <td>12.0162</td>\n",
       "      <td>927.141688</td>\n",
       "      <td>0.666667</td>\n",
       "    </tr>\n",
       "    <tr>\n",
       "      <th>2023-07-27</th>\n",
       "      <td>LTN</td>\n",
       "      <td>2024-07-01</td>\n",
       "      <td>11.4405</td>\n",
       "      <td>905.476539</td>\n",
       "      <td>0.916667</td>\n",
       "    </tr>\n",
       "    <tr>\n",
       "      <th>2023-07-27</th>\n",
       "      <td>LTN</td>\n",
       "      <td>2024-10-01</td>\n",
       "      <td>10.9584</td>\n",
       "      <td>884.658175</td>\n",
       "      <td>1.178571</td>\n",
       "    </tr>\n",
       "  </tbody>\n",
       "</table>\n",
       "</div>"
      ],
      "text/plain": [
       "                CODIGO DATA_VENCIMENTO  EXPECTATIVA          PU  Maturity\n",
       "DATA_REFERENCIA                                                          \n",
       "2023-07-27         LTN      2023-10-01      13.1755  977.660457  0.178571\n",
       "2023-07-27         LTN      2024-01-01      12.6150  950.806347  0.420635\n",
       "2023-07-27         LTN      2024-04-01      12.0162  927.141688  0.666667\n",
       "2023-07-27         LTN      2024-07-01      11.4405  905.476539  0.916667\n",
       "2023-07-27         LTN      2024-10-01      10.9584  884.658175  1.178571"
      ]
     },
     "execution_count": 697,
     "metadata": {},
     "output_type": "execute_result"
    }
   ],
   "source": [
    "df.head()"
   ]
  },
  {
   "cell_type": "markdown",
   "id": "b01e4b95",
   "metadata": {},
   "source": [
    "### Generating individuals"
   ]
  },
  {
   "cell_type": "code",
   "execution_count": 591,
   "id": "15c92863",
   "metadata": {},
   "outputs": [],
   "source": [
    "N =1200    ### Number of individuals \n",
    "p = int(2/3*N)      ## Proportion of individuals generated by method 1\n",
    "var = 0.5\n",
    "\n",
    "### 1 - Initial Values of the results of the estimation of the previous day\n",
    "\n",
    "ref_date_str = \"2023-07-27\"\n",
    "ref_date = datetime.strptime(ref_date_str, \"%Y-%m-%d\")\n",
    "previous_date = ref_date - timedelta(days=1)\n",
    "previous_parameters = parameters.loc[previous_date][1:]\n",
    "beta_star_1 = np.array([previous_parameters.replace(previous_parameters[1],previous_parameters[0])])\n",
    "e_previous = beta_star_1.T*np.random.normal(0, var, size=(6, p))\n",
    "beta_previous = beta_star_1.T + e_previous\n",
    "\n",
    "### 2 - Approximation that takes into account the observed yield to maturity (ytm)\n",
    "\n",
    "data_estimada = df.loc[ref_date_str]\n",
    "data_estimada.sort_values(\"Maturity\")\n",
    "b1 = data_estimada[\"EXPECTATIVA\"][0]/100\n",
    "b2 = data_estimada[\"EXPECTATIVA\"][-1]/100 - data_estimada[\"EXPECTATIVA\"][0]/100\n",
    "b3 = 0\n",
    "b4 = 0\n",
    "lbda1 = (data_estimada[\"Maturity\"][-1]-data_estimada[\"Maturity\"][0])/2\n",
    "lbda2 = lbda1\n",
    "beta_star_2 = np.array([b1, b2, b3 , b4, lbda1, lbda2])[:, np.newaxis]\n",
    "e_approx = beta_star_2*np.random.normal(0, var, size=(6, N-p))\n",
    "beta_approx = beta_star_2 + e_approx ## ajustar colunas\n",
    "\n",
    "### Adding constraints to the parameters\n",
    "\n",
    "def update (betas,beta_star):\n",
    "    updated_value = []\n",
    "    for index, parameter in enumerate(betas):\n",
    "        if parameter[0]<0:\n",
    "            betas[index][0] = beta_star[0]+ beta_star[0]*np.random.normal(0, var)\n",
    "            updated_value.append(betas[index][0]<0)\n",
    "        if (parameter[0]+parameter[1])<0:\n",
    "            betas[index][1] = beta_star[1]+ beta_star[1]*np.random.normal(0, var)\n",
    "            updated_value.append((betas[index][0]+betas[index][1])<0)\n",
    "        if parameter[4]<0:\n",
    "            betas[index][4] = beta_star[4]+ beta_star[4]*np.random.normal(0, var)\n",
    "            updated_value.append(betas[index][4]<0)\n",
    "        if parameter[5]<0:\n",
    "            betas[index][5] = beta_star[5]+ beta_star[5]*np.random.normal(0, var)\n",
    "            updated_value.append(betas[index][5]<0)\n",
    "    if sum(updated_value) != 0:\n",
    "        update(betas,beta_star)\n",
    "    return(beta_previous.T)\n",
    "\n",
    "update(beta_previous.T,beta_star_1.T)\n",
    "update(beta_approx,beta_star_2)\n",
    "\n",
    "individuals = np.concatenate((beta_previous.T, beta_approx.T), axis=0)"
   ]
  },
  {
   "cell_type": "markdown",
   "id": "f0f27240",
   "metadata": {},
   "source": [
    "### Selection"
   ]
  },
  {
   "cell_type": "code",
   "execution_count": 661,
   "id": "1913f806",
   "metadata": {},
   "outputs": [],
   "source": [
    "### add duration and coupons\n",
    "values = []\n",
    "\n",
    "### 40% of the individuals survive\n",
    "s = int(0.4 * N)\n",
    "\n",
    "for row in individuals:\n",
    "    def myval(c):\n",
    "        df['NSS'] =(c[0])+(c[1]*((1-np.exp(-df['Maturity']*c[4]))/(df['Maturity']*c[4])))+(c[2]*((((1-np.exp(-df['Maturity']*c[4]))/(df['Maturity']*c[4])))-(np.exp(-df['Maturity']*c[4]))))+(c[3]*((((1-np.exp(-df['Maturity']*c[5]))/(df['Maturity']*c[5])))-(np.exp(-df['Maturity']*c[5]))))\n",
    "        df['Calculated_price'] = 1000 / (1 + df['NSS']) ** df['Maturity'] \n",
    "        df['Residual'] =  (df['PU'] - df['Calculated_price'])**2\n",
    "        val = np.sum(df['Residual'])\n",
    "        return(val)\n",
    "    \n",
    "    val = myval(row)\n",
    "    values.append((val, row)) \n",
    "sol = pd.DataFrame(values, columns=['SC', \"Parameters\"]).sort_values('SC')\n",
    "\n",
    "selection = sol.sort_values('SC')[0:s]"
   ]
  },
  {
   "cell_type": "code",
   "execution_count": 593,
   "id": "a0f14af7",
   "metadata": {
    "scrolled": true
   },
   "outputs": [
    {
     "data": {
      "text/html": [
       "<div>\n",
       "<style scoped>\n",
       "    .dataframe tbody tr th:only-of-type {\n",
       "        vertical-align: middle;\n",
       "    }\n",
       "\n",
       "    .dataframe tbody tr th {\n",
       "        vertical-align: top;\n",
       "    }\n",
       "\n",
       "    .dataframe thead th {\n",
       "        text-align: right;\n",
       "    }\n",
       "</style>\n",
       "<table border=\"1\" class=\"dataframe\">\n",
       "  <thead>\n",
       "    <tr style=\"text-align: right;\">\n",
       "      <th></th>\n",
       "      <th>SC</th>\n",
       "      <th>Parameters</th>\n",
       "    </tr>\n",
       "  </thead>\n",
       "  <tbody>\n",
       "    <tr>\n",
       "      <th>611</th>\n",
       "      <td>181.250993</td>\n",
       "      <td>[0.11412105266411347, 0.035266622018368984, 0....</td>\n",
       "    </tr>\n",
       "    <tr>\n",
       "      <th>502</th>\n",
       "      <td>288.720037</td>\n",
       "      <td>[0.10105220445334448, 0.07296244304626097, 0.0...</td>\n",
       "    </tr>\n",
       "    <tr>\n",
       "      <th>332</th>\n",
       "      <td>291.496266</td>\n",
       "      <td>[0.10059944505990345, 0.11952243087124964, 0.0...</td>\n",
       "    </tr>\n",
       "    <tr>\n",
       "      <th>624</th>\n",
       "      <td>300.669953</td>\n",
       "      <td>[0.1118722164659382, 0.11626761109346095, 0.03...</td>\n",
       "    </tr>\n",
       "    <tr>\n",
       "      <th>601</th>\n",
       "      <td>341.080451</td>\n",
       "      <td>[0.1242636683447454, 0.0018637218400402306, 0....</td>\n",
       "    </tr>\n",
       "  </tbody>\n",
       "</table>\n",
       "</div>"
      ],
      "text/plain": [
       "             SC                                         Parameters\n",
       "611  181.250993  [0.11412105266411347, 0.035266622018368984, 0....\n",
       "502  288.720037  [0.10105220445334448, 0.07296244304626097, 0.0...\n",
       "332  291.496266  [0.10059944505990345, 0.11952243087124964, 0.0...\n",
       "624  300.669953  [0.1118722164659382, 0.11626761109346095, 0.03...\n",
       "601  341.080451  [0.1242636683447454, 0.0018637218400402306, 0...."
      ]
     },
     "execution_count": 593,
     "metadata": {},
     "output_type": "execute_result"
    }
   ],
   "source": [
    "selection.head()"
   ]
  },
  {
   "cell_type": "markdown",
   "id": "604af00f",
   "metadata": {},
   "source": [
    "### Cross-Over"
   ]
  },
  {
   "cell_type": "code",
   "execution_count": 689,
   "id": "9c0f7867",
   "metadata": {},
   "outputs": [],
   "source": [
    "alpha = 6\n",
    "next_gen = []\n",
    "\n",
    "\n",
    "for num in range(N):\n",
    "    psi = np.random.uniform(0, 1)\n",
    "    theta_r = np.concatenate(selection.iloc[(np.random.beta(1,alpha, 1)*s),:][\"Parameters\"].values)\n",
    "    theta_s = np.concatenate(selection.iloc[(np.random.beta(1,alpha, 1)*s),:][\"Parameters\"].values)\n",
    "    next_gen.append(psi*theta_r+(1-psi)*theta_s)\n",
    "\n"
   ]
  },
  {
   "cell_type": "markdown",
   "id": "06f8ecb2",
   "metadata": {},
   "source": [
    "### Mutation"
   ]
  },
  {
   "cell_type": "code",
   "execution_count": 690,
   "id": "5f69bcac",
   "metadata": {},
   "outputs": [],
   "source": [
    "pi = 0.35\n",
    "var = 0.5 ## ajustar a var para a geracao maior que 2\n",
    "e_mutation = []\n",
    "\n",
    "for num in range(N):\n",
    "    e = np.random.normal(0, var, 6)*np.random.choice([0, 1], size=6, p=[1 - pi, pi])\n",
    "    e_mutation.append(e)\n",
    "\n",
    "new_individuals = np.array(next_gen) + np.array(next_gen)*np.array(e_mutation)\n",
    "\n",
    "## add constraints to the parameters\n"
   ]
  },
  {
   "cell_type": "code",
   "execution_count": 691,
   "id": "fcdd7deb",
   "metadata": {},
   "outputs": [
    {
     "data": {
      "text/plain": [
       "array([[ 0.12057725,  0.01647488,  0.05153945, -0.09959417,  2.89409772,\n",
       "         0.29732673],\n",
       "       [ 0.12066261,  0.02498264,  0.05340877, -0.10170373,  2.81222821,\n",
       "         0.26873424],\n",
       "       [ 0.12135222,  0.01426206,  0.15634207, -0.1740004 ,  5.60840404,\n",
       "         1.08649506],\n",
       "       ...,\n",
       "       [ 0.1214745 ,  0.02950388,  0.05216882, -0.10246519,  0.84770093,\n",
       "         1.08056746],\n",
       "       [ 0.1203029 ,  0.01641742,  0.05190771, -0.09925465,  2.16475996,\n",
       "         1.09947321],\n",
       "       [ 0.1217963 ,  0.01415083,  0.05270293,  0.01048149,  2.83443824,\n",
       "         1.07483231]])"
      ]
     },
     "execution_count": 691,
     "metadata": {},
     "output_type": "execute_result"
    }
   ],
   "source": [
    "new_individuals"
   ]
  },
  {
   "cell_type": "code",
   "execution_count": 692,
   "id": "a31affa0",
   "metadata": {},
   "outputs": [],
   "source": [
    "for row in new_individuals:\n",
    "    def myval(c):\n",
    "        df['NSS'] =(c[0])+(c[1]*((1-np.exp(-df['Maturity']*c[4]))/(df['Maturity']*c[4])))+(c[2]*((((1-np.exp(-df['Maturity']*c[4]))/(df['Maturity']*c[4])))-(np.exp(-df['Maturity']*c[4]))))+(c[3]*((((1-np.exp(-df['Maturity']*c[5]))/(df['Maturity']*c[5])))-(np.exp(-df['Maturity']*c[5]))))\n",
    "        df['Calculated_price'] = 1000 / (1 + df['NSS']) ** df['Maturity'] \n",
    "        df['Residual'] =  (df['PU'] - df['Calculated_price'])**2\n",
    "        val = np.sum(df['Residual'])\n",
    "        return(val) \n",
    "    val = myval(row)\n",
    "    values.append((val, row)) \n",
    "sol_2 = pd.DataFrame(values, columns=['SC', \"Parameters\"]).sort_values('SC')\n",
    "\n",
    "selection = sol_2[0:s]"
   ]
  },
  {
   "cell_type": "code",
   "execution_count": 693,
   "id": "77b23b0d",
   "metadata": {},
   "outputs": [
    {
     "data": {
      "text/html": [
       "<div>\n",
       "<style scoped>\n",
       "    .dataframe tbody tr th:only-of-type {\n",
       "        vertical-align: middle;\n",
       "    }\n",
       "\n",
       "    .dataframe tbody tr th {\n",
       "        vertical-align: top;\n",
       "    }\n",
       "\n",
       "    .dataframe thead th {\n",
       "        text-align: right;\n",
       "    }\n",
       "</style>\n",
       "<table border=\"1\" class=\"dataframe\">\n",
       "  <thead>\n",
       "    <tr style=\"text-align: right;\">\n",
       "      <th></th>\n",
       "      <th>SC</th>\n",
       "      <th>Parameters</th>\n",
       "    </tr>\n",
       "  </thead>\n",
       "  <tbody>\n",
       "    <tr>\n",
       "      <th>8348</th>\n",
       "      <td>0.425184</td>\n",
       "      <td>[0.12088825299046474, 0.01488821028037924, 0.0...</td>\n",
       "    </tr>\n",
       "    <tr>\n",
       "      <th>8257</th>\n",
       "      <td>0.429743</td>\n",
       "      <td>[0.12098702304317403, 0.014411810252507878, 0....</td>\n",
       "    </tr>\n",
       "    <tr>\n",
       "      <th>7958</th>\n",
       "      <td>0.430089</td>\n",
       "      <td>[0.12096065334285618, 0.014471853119308611, 0....</td>\n",
       "    </tr>\n",
       "    <tr>\n",
       "      <th>6199</th>\n",
       "      <td>0.430276</td>\n",
       "      <td>[0.12095915857458389, 0.014471656161735513, 0....</td>\n",
       "    </tr>\n",
       "    <tr>\n",
       "      <th>3646</th>\n",
       "      <td>0.432027</td>\n",
       "      <td>[0.1208757424815122, 0.015348138403772048, 0.0...</td>\n",
       "    </tr>\n",
       "    <tr>\n",
       "      <th>...</th>\n",
       "      <td>...</td>\n",
       "      <td>...</td>\n",
       "    </tr>\n",
       "    <tr>\n",
       "      <th>1941</th>\n",
       "      <td>1.105713</td>\n",
       "      <td>[0.11975277236733137, 0.018831779608285658, 0....</td>\n",
       "    </tr>\n",
       "    <tr>\n",
       "      <th>2204</th>\n",
       "      <td>1.107498</td>\n",
       "      <td>[0.12189913205013168, 0.014403601801264477, 0....</td>\n",
       "    </tr>\n",
       "    <tr>\n",
       "      <th>3097</th>\n",
       "      <td>1.116063</td>\n",
       "      <td>[0.12036669149020429, 0.016363718078643397, 0....</td>\n",
       "    </tr>\n",
       "    <tr>\n",
       "      <th>2101</th>\n",
       "      <td>1.120179</td>\n",
       "      <td>[0.11820969822018111, 0.019954435886738977, 0....</td>\n",
       "    </tr>\n",
       "    <tr>\n",
       "      <th>4513</th>\n",
       "      <td>1.125063</td>\n",
       "      <td>[0.11951971929467754, 0.01814578489243239, 0.0...</td>\n",
       "    </tr>\n",
       "  </tbody>\n",
       "</table>\n",
       "<p>480 rows × 2 columns</p>\n",
       "</div>"
      ],
      "text/plain": [
       "            SC                                         Parameters\n",
       "8348  0.425184  [0.12088825299046474, 0.01488821028037924, 0.0...\n",
       "8257  0.429743  [0.12098702304317403, 0.014411810252507878, 0....\n",
       "7958  0.430089  [0.12096065334285618, 0.014471853119308611, 0....\n",
       "6199  0.430276  [0.12095915857458389, 0.014471656161735513, 0....\n",
       "3646  0.432027  [0.1208757424815122, 0.015348138403772048, 0.0...\n",
       "...        ...                                                ...\n",
       "1941  1.105713  [0.11975277236733137, 0.018831779608285658, 0....\n",
       "2204  1.107498  [0.12189913205013168, 0.014403601801264477, 0....\n",
       "3097  1.116063  [0.12036669149020429, 0.016363718078643397, 0....\n",
       "2101  1.120179  [0.11820969822018111, 0.019954435886738977, 0....\n",
       "4513  1.125063  [0.11951971929467754, 0.01814578489243239, 0.0...\n",
       "\n",
       "[480 rows x 2 columns]"
      ]
     },
     "execution_count": 693,
     "metadata": {},
     "output_type": "execute_result"
    }
   ],
   "source": [
    "selection"
   ]
  },
  {
   "cell_type": "code",
   "execution_count": 703,
   "id": "0bcc6d6b",
   "metadata": {},
   "outputs": [],
   "source": [
    "dia27 = selection.iloc[0][1]"
   ]
  },
  {
   "cell_type": "code",
   "execution_count": 704,
   "id": "d0029d17",
   "metadata": {},
   "outputs": [],
   "source": [
    "dia27_anbima = parameters.iloc[-2,1:].values\n"
   ]
  },
  {
   "cell_type": "code",
   "execution_count": 705,
   "id": "17ddea63",
   "metadata": {},
   "outputs": [
    {
     "data": {
      "text/plain": [
       "array([0.11607816194564, 0.0166125317003564, 0.0680897147357593,\n",
       "       -0.0993640836290361, 2.69995231289057, 1.22983028024676],\n",
       "      dtype=object)"
      ]
     },
     "execution_count": 705,
     "metadata": {},
     "output_type": "execute_result"
    }
   ],
   "source": [
    "dia27_anbima"
   ]
  },
  {
   "cell_type": "code",
   "execution_count": 706,
   "id": "480ff619",
   "metadata": {},
   "outputs": [
    {
     "data": {
      "text/plain": [
       "Text(0.5, 1.0, '27/08')"
      ]
     },
     "execution_count": 706,
     "metadata": {},
     "output_type": "execute_result"
    },
    {
     "data": {
      "image/png": "[encoded data removed]",
      "text/plain": [
       "<Figure size 640x480 with 1 Axes>"
      ]
     },
     "metadata": {},
     "output_type": "display_data"
    }
   ],
   "source": [
    "plt.plot(dia27)\n",
    "plt.plot(dia27_anbima)\n",
    "plt.title('27/08')"
   ]
  },
  {
   "cell_type": "code",
   "execution_count": null,
   "id": "9b0bad66",
   "metadata": {},
   "outputs": [],
   "source": []
  }
 ],
 "metadata": {
  "kernelspec": {
   "display_name": "Python 3 (ipykernel)",
   "language": "python",
   "name": "python3"
  },
  "language_info": {
   "codemirror_mode": {
    "name": "ipython",
    "version": 3
   },
   "file_extension": ".py",
   "mimetype": "text/x-python",
   "name": "python",
   "nbconvert_exporter": "python",
   "pygments_lexer": "ipython3",
   "version": "3.11.3"
  }
 },
 "nbformat": 4,
 "nbformat_minor": 5
}
