{
 "cells": [
  {
   "cell_type": "markdown",
   "id": "d6600b5b",
   "metadata": {},
   "source": [
    "# Svensson (1994)"
   ]
  },
  {
   "cell_type": "markdown",
   "id": "2ea11aa8",
   "metadata": {},
   "source": [
    "\n",
    "\n",
    "$$ r(t) = \\beta_1 + \\beta_2\\frac{1-e^{-\\lambda_1 t}}{\\lambda_1 t} \n",
    "        + \\beta_3 \\left(\\frac{1-e^{-\\lambda_1 t}}{\\lambda_1 t}-e^{-\\lambda_1 t}\\right)\n",
    "        + \\beta_4 \\left(\\frac{1-e^{-\\lambda_2 t}}{\\lambda_2 t}-e^{-\\lambda_2 t}\\right)$$"
   ]
  },
  {
   "cell_type": "markdown",
   "id": "f931bc69",
   "metadata": {},
   "source": [
    "### Importing the data"
   ]
  },
  {
   "cell_type": "code",
   "execution_count": 66,
   "id": "2ed72081",
   "metadata": {},
   "outputs": [],
   "source": [
    "from scipy.optimize import fmin\n",
    "from datetime import datetime, timedelta\n",
    "import pandas as pd\n",
    "import numpy as np\n",
    "import datetime as dt\n",
    "import matplotlib.pyplot as plt\n",
    "from workadays import workdays as wd\n",
    "\n",
    "path = r\"C:\\Users\\Alysson\\Documents\\GitHub\\Monetary-Shocks\\Brasil\\ETTJ\\Base_LTN.xlsx\"\n",
    "path2 = r\"C:\\Users\\Alysson\\Documents\\GitHub\\Monetary-Shocks\\Brasil\\ETTJ\\Parametros.xlsx\"\n",
    "df = pd.read_excel(path)\n",
    "parameters = pd.read_excel(path2)"
   ]
  },
  {
   "cell_type": "code",
   "execution_count": 67,
   "id": "d024534e",
   "metadata": {},
   "outputs": [],
   "source": [
    "parameters.set_index(\"Data referência\", inplace=True)\n",
    "df[\"Maturity\"] = df.apply(lambda row: wd.networkdays(row[\"DATA_REFERENCIA\"], row[\"DATA_VENCIMENTO\"]), axis=1)/252\n",
    "df.set_index(\"DATA_REFERENCIA\", inplace=True)"
   ]
  },
  {
   "cell_type": "code",
   "execution_count": 68,
   "id": "7cc69905",
   "metadata": {},
   "outputs": [
    {
     "data": {
      "text/html": [
       "<div>\n",
       "<style scoped>\n",
       "    .dataframe tbody tr th:only-of-type {\n",
       "        vertical-align: middle;\n",
       "    }\n",
       "\n",
       "    .dataframe tbody tr th {\n",
       "        vertical-align: top;\n",
       "    }\n",
       "\n",
       "    .dataframe thead th {\n",
       "        text-align: right;\n",
       "    }\n",
       "</style>\n",
       "<table border=\"1\" class=\"dataframe\">\n",
       "  <thead>\n",
       "    <tr style=\"text-align: right;\">\n",
       "      <th></th>\n",
       "      <th>CODIGO</th>\n",
       "      <th>DATA_VENCIMENTO</th>\n",
       "      <th>EXPECTATIVA</th>\n",
       "      <th>PU</th>\n",
       "      <th>Maturity</th>\n",
       "    </tr>\n",
       "    <tr>\n",
       "      <th>DATA_REFERENCIA</th>\n",
       "      <th></th>\n",
       "      <th></th>\n",
       "      <th></th>\n",
       "      <th></th>\n",
       "      <th></th>\n",
       "    </tr>\n",
       "  </thead>\n",
       "  <tbody>\n",
       "    <tr>\n",
       "      <th>2023-07-03</th>\n",
       "      <td>LTN</td>\n",
       "      <td>2023-10-01</td>\n",
       "      <td>13.2025</td>\n",
       "      <td>968.996662</td>\n",
       "      <td>0.250000</td>\n",
       "    </tr>\n",
       "    <tr>\n",
       "      <th>2023-07-03</th>\n",
       "      <td>LTN</td>\n",
       "      <td>2024-01-01</td>\n",
       "      <td>12.7468</td>\n",
       "      <td>942.225059</td>\n",
       "      <td>0.492063</td>\n",
       "    </tr>\n",
       "    <tr>\n",
       "      <th>2023-07-03</th>\n",
       "      <td>LTN</td>\n",
       "      <td>2024-04-01</td>\n",
       "      <td>12.1642</td>\n",
       "      <td>918.761537</td>\n",
       "      <td>0.738095</td>\n",
       "    </tr>\n",
       "    <tr>\n",
       "      <th>2023-07-03</th>\n",
       "      <td>LTN</td>\n",
       "      <td>2024-07-01</td>\n",
       "      <td>11.5298</td>\n",
       "      <td>897.786879</td>\n",
       "      <td>0.988095</td>\n",
       "    </tr>\n",
       "    <tr>\n",
       "      <th>2023-07-03</th>\n",
       "      <td>LTN</td>\n",
       "      <td>2024-10-01</td>\n",
       "      <td>11.0232</td>\n",
       "      <td>877.471104</td>\n",
       "      <td>1.250000</td>\n",
       "    </tr>\n",
       "  </tbody>\n",
       "</table>\n",
       "</div>"
      ],
      "text/plain": [
       "                CODIGO DATA_VENCIMENTO  EXPECTATIVA          PU  Maturity\n",
       "DATA_REFERENCIA                                                          \n",
       "2023-07-03         LTN      2023-10-01      13.2025  968.996662  0.250000\n",
       "2023-07-03         LTN      2024-01-01      12.7468  942.225059  0.492063\n",
       "2023-07-03         LTN      2024-04-01      12.1642  918.761537  0.738095\n",
       "2023-07-03         LTN      2024-07-01      11.5298  897.786879  0.988095\n",
       "2023-07-03         LTN      2024-10-01      11.0232  877.471104  1.250000"
      ]
     },
     "execution_count": 68,
     "metadata": {},
     "output_type": "execute_result"
    }
   ],
   "source": [
    "df.head()"
   ]
  },
  {
   "cell_type": "markdown",
   "id": "b01e4b95",
   "metadata": {},
   "source": [
    "### Generating individuals"
   ]
  },
  {
   "cell_type": "code",
   "execution_count": 69,
   "id": "15c92863",
   "metadata": {},
   "outputs": [],
   "source": [
    "N =1200    ### Number of individuals \n",
    "p = int(2/3*N)      ## Proportion of individuals generated by method 1\n",
    "var = 0.5\n",
    "\n",
    "### 1 - Initial Values of the results of the estimation of the previous day\n",
    "\n",
    "ref_date_str = \"2023-07-27\"\n",
    "ref_date = datetime.strptime(ref_date_str, \"%Y-%m-%d\")\n",
    "previous_date = ref_date - timedelta(days=1)\n",
    "previous_parameters = parameters.loc[previous_date][1:]\n",
    "beta_star_1 = np.array([previous_parameters.replace(previous_parameters[1],previous_parameters[0])])\n",
    "e_previous = beta_star_1.T*np.random.normal(0, var, size=(6, p))\n",
    "beta_previous = beta_star_1.T + e_previous\n",
    "\n",
    "### 2 - Approximation that takes into account the observed yield to maturity (ytm)\n",
    "\n",
    "data_estimada = df.loc[ref_date_str]\n",
    "data_estimada.sort_values(\"Maturity\")\n",
    "b1 = data_estimada[\"EXPECTATIVA\"][0]/100\n",
    "b2 = data_estimada[\"EXPECTATIVA\"][-1]/100 - data_estimada[\"EXPECTATIVA\"][0]/100\n",
    "b3 = 0\n",
    "b4 = 0\n",
    "lbda1 = previous_parameters[4]\n",
    "lbda2 = previous_parameters[5]\n",
    "#lbda1 = (data_estimada[\"Maturity\"][-1]-data_estimada[\"Maturity\"][0])/2\n",
    "#lbda2 = lbda1\n",
    "beta_star_2 = np.array([b1, b2, b3 , b4, lbda1, lbda2])[:, np.newaxis]\n",
    "e_approx = beta_star_2*np.random.normal(0, var, size=(6, N-p))\n",
    "beta_approx = beta_star_2 + e_approx ## ajustar colunas\n",
    "\n",
    "### Adding constraints to the parameters\n",
    "\n",
    "def update (betas,beta_star):\n",
    "    updated_value = []\n",
    "    for index, parameter in enumerate(betas):\n",
    "        if parameter[0]<0:\n",
    "            betas[index][0] = beta_star[0]+ beta_star[0]*np.random.normal(0, var)\n",
    "            updated_value.append(betas[index][0]<0)\n",
    "        if (parameter[0]+parameter[1])<0:\n",
    "            betas[index][1] = beta_star[1]+ beta_star[1]*np.random.normal(0, var)\n",
    "            updated_value.append((betas[index][0]+betas[index][1])<0)\n",
    "        if parameter[4]<0:\n",
    "            betas[index][4] = beta_star[4]+ beta_star[4]*np.random.normal(0, var)\n",
    "            updated_value.append(betas[index][4]<0)\n",
    "        if parameter[5]<0:\n",
    "            betas[index][5] = beta_star[5]+ beta_star[5]*np.random.normal(0, var)\n",
    "            updated_value.append(betas[index][5]<0)\n",
    "    if sum(updated_value) != 0:\n",
    "        update(betas,beta_star)\n",
    "    return(beta_previous.T)\n",
    "\n",
    "update(beta_previous.T,beta_star_1.T)\n",
    "update(beta_approx,beta_star_2)\n",
    "\n",
    "individuals = np.concatenate((beta_previous.T, beta_approx.T), axis=0)"
   ]
  },
  {
   "cell_type": "code",
   "execution_count": 70,
   "id": "117cd26c",
   "metadata": {},
   "outputs": [
    {
     "data": {
      "text/plain": [
       "array([0.16450793, 0.24620467, 0.07304162, 0.01878355, 2.87858206,\n",
       "       1.77031131])"
      ]
     },
     "execution_count": 70,
     "metadata": {},
     "output_type": "execute_result"
    }
   ],
   "source": [
    "beta_previous[:,0]"
   ]
  },
  {
   "cell_type": "code",
   "execution_count": 71,
   "id": "3f5d453c",
   "metadata": {},
   "outputs": [
    {
     "data": {
      "text/plain": [
       "array([0.34533393, 0.09219015, 0.        , 0.        , 5.23196605,\n",
       "       1.72378807])"
      ]
     },
     "execution_count": 71,
     "metadata": {},
     "output_type": "execute_result"
    }
   ],
   "source": [
    "beta_approx[:,0]"
   ]
  },
  {
   "cell_type": "markdown",
   "id": "f0f27240",
   "metadata": {},
   "source": [
    "### Selection"
   ]
  },
  {
   "cell_type": "code",
   "execution_count": 72,
   "id": "1913f806",
   "metadata": {},
   "outputs": [],
   "source": [
    "### add duration and coupons\n",
    "values = []\n",
    "\n",
    "### 40% of the individuals survive\n",
    "s = int(0.4 * N)\n",
    "\n",
    "for row in individuals:\n",
    "    def myval(c):\n",
    "        df['NSS'] =(c[0])+(c[1]*((1-np.exp(-df['Maturity']*c[4]))/(df['Maturity']*c[4])))+(c[2]*((((1-np.exp(-df['Maturity']*c[4]))/(df['Maturity']*c[4])))-(np.exp(-df['Maturity']*c[4]))))+(c[3]*((((1-np.exp(-df['Maturity']*c[5]))/(df['Maturity']*c[5])))-(np.exp(-df['Maturity']*c[5]))))\n",
    "        df['Calculated_price'] = 1000 / (1 + df['NSS']) ** df['Maturity'] \n",
    "        df['Residual'] =  ((df['PU'] - df['Calculated_price'])**2)*(1/df[\"Maturity\"]**0.5)\n",
    "        val = np.sum(df['Residual'])\n",
    "        return(val)\n",
    "    \n",
    "    val = myval(row)\n",
    "    values.append((val, row)) \n",
    "sol = pd.DataFrame(values, columns=['SC', \"Parameters\"]).sort_values('SC')\n",
    "\n",
    "selection = sol.sort_values('SC')[0:s]"
   ]
  },
  {
   "cell_type": "code",
   "execution_count": 73,
   "id": "a0f14af7",
   "metadata": {
    "scrolled": true
   },
   "outputs": [
    {
     "data": {
      "text/html": [
       "<div>\n",
       "<style scoped>\n",
       "    .dataframe tbody tr th:only-of-type {\n",
       "        vertical-align: middle;\n",
       "    }\n",
       "\n",
       "    .dataframe tbody tr th {\n",
       "        vertical-align: top;\n",
       "    }\n",
       "\n",
       "    .dataframe thead th {\n",
       "        text-align: right;\n",
       "    }\n",
       "</style>\n",
       "<table border=\"1\" class=\"dataframe\">\n",
       "  <thead>\n",
       "    <tr style=\"text-align: right;\">\n",
       "      <th></th>\n",
       "      <th>SC</th>\n",
       "      <th>Parameters</th>\n",
       "    </tr>\n",
       "  </thead>\n",
       "  <tbody>\n",
       "    <tr>\n",
       "      <th>670</th>\n",
       "      <td>1940.470007</td>\n",
       "      <td>[0.1178383764175101, 0.004464826525546833, 0.1...</td>\n",
       "    </tr>\n",
       "    <tr>\n",
       "      <th>786</th>\n",
       "      <td>2206.526192</td>\n",
       "      <td>[0.11932839858900385, 0.04625981796936679, 0.0...</td>\n",
       "    </tr>\n",
       "    <tr>\n",
       "      <th>633</th>\n",
       "      <td>2527.304686</td>\n",
       "      <td>[0.09406949006146283, 0.0845019427299448, 0.05...</td>\n",
       "    </tr>\n",
       "    <tr>\n",
       "      <th>550</th>\n",
       "      <td>2903.889800</td>\n",
       "      <td>[0.09982940908139615, 0.05100347360843989, 0.0...</td>\n",
       "    </tr>\n",
       "    <tr>\n",
       "      <th>246</th>\n",
       "      <td>3621.913493</td>\n",
       "      <td>[0.11781421407584519, 0.06870607059552182, 0.0...</td>\n",
       "    </tr>\n",
       "  </tbody>\n",
       "</table>\n",
       "</div>"
      ],
      "text/plain": [
       "              SC                                         Parameters\n",
       "670  1940.470007  [0.1178383764175101, 0.004464826525546833, 0.1...\n",
       "786  2206.526192  [0.11932839858900385, 0.04625981796936679, 0.0...\n",
       "633  2527.304686  [0.09406949006146283, 0.0845019427299448, 0.05...\n",
       "550  2903.889800  [0.09982940908139615, 0.05100347360843989, 0.0...\n",
       "246  3621.913493  [0.11781421407584519, 0.06870607059552182, 0.0..."
      ]
     },
     "execution_count": 73,
     "metadata": {},
     "output_type": "execute_result"
    }
   ],
   "source": [
    "selection.head()"
   ]
  },
  {
   "cell_type": "markdown",
   "id": "604af00f",
   "metadata": {},
   "source": [
    "### Cross-Over"
   ]
  },
  {
   "cell_type": "code",
   "execution_count": 74,
   "id": "9c0f7867",
   "metadata": {},
   "outputs": [],
   "source": [
    "alpha = 6\n",
    "next_gen = []\n",
    "\n",
    "\n",
    "for num in range(N):\n",
    "    psi = np.random.uniform(0, 1)\n",
    "    theta_r = np.concatenate(selection.iloc[(np.random.beta(1,alpha, 1)*s),:][\"Parameters\"].values)\n",
    "    theta_s = np.concatenate(selection.iloc[(np.random.beta(1,alpha, 1)*s),:][\"Parameters\"].values)\n",
    "    next_gen.append(psi*theta_r+(1-psi)*theta_s)\n",
    "\n"
   ]
  },
  {
   "cell_type": "markdown",
   "id": "06f8ecb2",
   "metadata": {},
   "source": [
    "### Mutation"
   ]
  },
  {
   "cell_type": "code",
   "execution_count": 75,
   "id": "5f69bcac",
   "metadata": {},
   "outputs": [],
   "source": [
    "pi = 0.35\n",
    "var = 0.5 ## ajustar a var para a geracao maior que 2\n",
    "e_mutation = []\n",
    "\n",
    "for num in range(N):\n",
    "    e = np.random.normal(0, var, 6)*np.random.choice([0, 1], size=6, p=[1 - pi, pi])\n",
    "    e_mutation.append(e)\n",
    "\n",
    "new_individuals = np.array(next_gen) + np.array(next_gen)*np.array(e_mutation)\n",
    "\n",
    "## add constraints to the parameters\n"
   ]
  },
  {
   "cell_type": "code",
   "execution_count": 76,
   "id": "fcdd7deb",
   "metadata": {},
   "outputs": [
    {
     "data": {
      "text/plain": [
       "array([[ 4.58051164e-02, -2.88978532e-03,  4.07227638e-02,\n",
       "        -1.16460599e-01,  2.60688135e+00,  1.24029906e+00],\n",
       "       [ 1.31873072e-01, -1.12089460e-02,  8.21215909e-03,\n",
       "        -2.56663790e-02,  3.47515777e+00,  2.08424471e+00],\n",
       "       [ 1.79774310e-01,  1.05297344e-02,  1.48310437e-02,\n",
       "        -3.64441905e-02,  3.93758126e+00,  2.28576736e+00],\n",
       "       ...,\n",
       "       [ 9.27264701e-02,  1.28085614e-02,  1.83924878e-02,\n",
       "        -4.12739599e-03,  6.11147304e+00,  1.04494714e+00],\n",
       "       [ 1.07444956e-01,  5.70146018e-02,  3.91092556e-02,\n",
       "        -1.14174763e-01,  2.07383423e+00,  1.21040203e+00],\n",
       "       [ 8.49887235e-02,  1.59504174e-01,  1.57406592e-01,\n",
       "        -8.10270612e-02,  3.44932300e+00,  1.24442947e+00]])"
      ]
     },
     "execution_count": 76,
     "metadata": {},
     "output_type": "execute_result"
    }
   ],
   "source": [
    "new_individuals"
   ]
  },
  {
   "cell_type": "code",
   "execution_count": 77,
   "id": "a31affa0",
   "metadata": {},
   "outputs": [],
   "source": [
    "for row in new_individuals:\n",
    "    def myval(c):\n",
    "        df['NSS'] =(c[0])+(c[1]*((1-np.exp(-df['Maturity']*c[4]))/(df['Maturity']*c[4])))+(c[2]*((((1-np.exp(-df['Maturity']*c[4]))/(df['Maturity']*c[4])))-(np.exp(-df['Maturity']*c[4]))))+(c[3]*((((1-np.exp(-df['Maturity']*c[5]))/(df['Maturity']*c[5])))-(np.exp(-df['Maturity']*c[5]))))\n",
    "        df['Calculated_price'] = 1000 / (1 + df['NSS']) ** df['Maturity'] \n",
    "        df['Residual'] =  (df['PU'] - df['Calculated_price'])**2*(1/df[\"Maturity\"]**0.5)\n",
    "        val = np.sum(df['Residual'])\n",
    "        return(val) \n",
    "    val = myval(row)\n",
    "    values.append((val, row)) \n",
    "sol_2 = pd.DataFrame(values, columns=['SC', \"Parameters\"]).sort_values('SC')\n",
    "\n",
    "selection = sol_2[0:s]"
   ]
  },
  {
   "cell_type": "code",
   "execution_count": 78,
   "id": "77b23b0d",
   "metadata": {},
   "outputs": [
    {
     "data": {
      "text/html": [
       "<div>\n",
       "<style scoped>\n",
       "    .dataframe tbody tr th:only-of-type {\n",
       "        vertical-align: middle;\n",
       "    }\n",
       "\n",
       "    .dataframe tbody tr th {\n",
       "        vertical-align: top;\n",
       "    }\n",
       "\n",
       "    .dataframe thead th {\n",
       "        text-align: right;\n",
       "    }\n",
       "</style>\n",
       "<table border=\"1\" class=\"dataframe\">\n",
       "  <thead>\n",
       "    <tr style=\"text-align: right;\">\n",
       "      <th></th>\n",
       "      <th>SC</th>\n",
       "      <th>Parameters</th>\n",
       "    </tr>\n",
       "  </thead>\n",
       "  <tbody>\n",
       "    <tr>\n",
       "      <th>1417</th>\n",
       "      <td>597.150472</td>\n",
       "      <td>[0.12645402402460937, 0.016089854934346687, 0....</td>\n",
       "    </tr>\n",
       "    <tr>\n",
       "      <th>1696</th>\n",
       "      <td>761.831663</td>\n",
       "      <td>[0.11761000407259953, 0.009545511450349858, 0....</td>\n",
       "    </tr>\n",
       "    <tr>\n",
       "      <th>2068</th>\n",
       "      <td>874.010995</td>\n",
       "      <td>[0.1158061186503895, 0.04844136906201553, 0.02...</td>\n",
       "    </tr>\n",
       "    <tr>\n",
       "      <th>1887</th>\n",
       "      <td>1051.203719</td>\n",
       "      <td>[0.11635540356277857, 0.024508500298977352, 0....</td>\n",
       "    </tr>\n",
       "    <tr>\n",
       "      <th>1706</th>\n",
       "      <td>1191.723022</td>\n",
       "      <td>[0.10697958931643574, 0.0445254520174589, 0.10...</td>\n",
       "    </tr>\n",
       "    <tr>\n",
       "      <th>...</th>\n",
       "      <td>...</td>\n",
       "      <td>...</td>\n",
       "    </tr>\n",
       "    <tr>\n",
       "      <th>1156</th>\n",
       "      <td>27676.613064</td>\n",
       "      <td>[0.10147862925558579, -0.016699383769572154, 0...</td>\n",
       "    </tr>\n",
       "    <tr>\n",
       "      <th>1614</th>\n",
       "      <td>27724.391688</td>\n",
       "      <td>[0.09770013641535709, 0.08885689850630311, 0.0...</td>\n",
       "    </tr>\n",
       "    <tr>\n",
       "      <th>347</th>\n",
       "      <td>27862.543614</td>\n",
       "      <td>[0.08379120033928623, 0.1027912474743164, 0.07...</td>\n",
       "    </tr>\n",
       "    <tr>\n",
       "      <th>1814</th>\n",
       "      <td>27864.328210</td>\n",
       "      <td>[0.11577235666784574, -0.01305851811987353, 0....</td>\n",
       "    </tr>\n",
       "    <tr>\n",
       "      <th>1675</th>\n",
       "      <td>27867.590376</td>\n",
       "      <td>[0.10021660739960278, 0.09589310119484798, 0.1...</td>\n",
       "    </tr>\n",
       "  </tbody>\n",
       "</table>\n",
       "<p>480 rows × 2 columns</p>\n",
       "</div>"
      ],
      "text/plain": [
       "                SC                                         Parameters\n",
       "1417    597.150472  [0.12645402402460937, 0.016089854934346687, 0....\n",
       "1696    761.831663  [0.11761000407259953, 0.009545511450349858, 0....\n",
       "2068    874.010995  [0.1158061186503895, 0.04844136906201553, 0.02...\n",
       "1887   1051.203719  [0.11635540356277857, 0.024508500298977352, 0....\n",
       "1706   1191.723022  [0.10697958931643574, 0.0445254520174589, 0.10...\n",
       "...            ...                                                ...\n",
       "1156  27676.613064  [0.10147862925558579, -0.016699383769572154, 0...\n",
       "1614  27724.391688  [0.09770013641535709, 0.08885689850630311, 0.0...\n",
       "347   27862.543614  [0.08379120033928623, 0.1027912474743164, 0.07...\n",
       "1814  27864.328210  [0.11577235666784574, -0.01305851811987353, 0....\n",
       "1675  27867.590376  [0.10021660739960278, 0.09589310119484798, 0.1...\n",
       "\n",
       "[480 rows x 2 columns]"
      ]
     },
     "execution_count": 78,
     "metadata": {},
     "output_type": "execute_result"
    }
   ],
   "source": [
    "selection"
   ]
  },
  {
   "cell_type": "code",
   "execution_count": 79,
   "id": "0bcc6d6b",
   "metadata": {},
   "outputs": [],
   "source": [
    "dia27 = selection.iloc[0][1]"
   ]
  },
  {
   "cell_type": "code",
   "execution_count": 80,
   "id": "d0029d17",
   "metadata": {},
   "outputs": [],
   "source": [
    "dia27_anbima = parameters.iloc[-2,1:].values\n"
   ]
  },
  {
   "cell_type": "code",
   "execution_count": 81,
   "id": "17ddea63",
   "metadata": {},
   "outputs": [
    {
     "data": {
      "text/plain": [
       "array([0.114358254774121, 0.018715794279205, 0.0679754297455865,\n",
       "       -0.0961284649369684, 2.70022735771407, 1.22958147196742],\n",
       "      dtype=object)"
      ]
     },
     "execution_count": 81,
     "metadata": {},
     "output_type": "execute_result"
    }
   ],
   "source": [
    "dia27_anbima"
   ]
  },
  {
   "cell_type": "code",
   "execution_count": 82,
   "id": "480ff619",
   "metadata": {},
   "outputs": [
    {
     "data": {
      "text/plain": [
       "Text(0.5, 1.0, '27/08')"
      ]
     },
     "execution_count": 82,
     "metadata": {},
     "output_type": "execute_result"
    },
    {
     "data": {
      "image/png": "[encoded data removed]",
      "text/plain": [
       "<Figure size 640x480 with 1 Axes>"
      ]
     },
     "metadata": {},
     "output_type": "display_data"
    }
   ],
   "source": [
    "plt.plot(dia27)\n",
    "plt.plot(dia27_anbima)\n",
    "plt.title('27/08')"
   ]
  },
  {
   "cell_type": "code",
   "execution_count": null,
   "id": "9b0bad66",
   "metadata": {},
   "outputs": [],
   "source": []
  }
 ],
 "metadata": {
  "kernelspec": {
   "display_name": "Python 3 (ipykernel)",
   "language": "python",
   "name": "python3"
  },
  "language_info": {
   "codemirror_mode": {
    "name": "ipython",
    "version": 3
   },
   "file_extension": ".py",
   "mimetype": "text/x-python",
   "name": "python",
   "nbconvert_exporter": "python",
   "pygments_lexer": "ipython3",
   "version": "3.11.3"
  }
 },
 "nbformat": 4,
 "nbformat_minor": 5
}
